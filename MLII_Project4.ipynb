{
  "nbformat": 4,
  "nbformat_minor": 0,
  "metadata": {
    "colab": {
      "name": "MLII_Project4.ipynb",
      "provenance": [],
      "collapsed_sections": []
    },
    "kernelspec": {
      "name": "python3",
      "display_name": "Python 3"
    },
    "language_info": {
      "name": "python"
    }
  },
  "cells": [
    {
      "cell_type": "markdown",
      "metadata": {
        "id": "D-Oxb_vx21T_"
      },
      "source": [
        "## MLII HW4   Ellen Lull\n",
        "\n",
        "I decided to try pytorch for this.  This was created and run in Google Colab.   \n",
        "\n",
        "For the accuracy of the first CNN model, I have 80-85 percent, which is decent, but could be improved.     Handwriting issues seem to be the biggest issue, with some messier letters done later that ended up on the test set.  However, this is probably a realistic issue so I didn't change it\n",
        "\n",
        "The first part of this Google COLAB is the CNN model using Pytorch to train on some handwritten letters A-E (50 each) and test on another 20 handwritten letters A-E (20 each).\n",
        "\n",
        "After this completed, I switched out the last layer of the model and loaded data for letters 'F', 'G' and 'H'.    I ran the model again.  My accuracy was not as high, however.\n"
      ]
    },
    {
      "cell_type": "code",
      "metadata": {
        "id": "a_V-2tdpPnin"
      },
      "source": [
        "import os\n",
        "from PIL import Image\n",
        "from IPython.display import display #this displays images in the notebook\n",
        "\n",
        "# Filter harmless warnings\n",
        "import warnings"
      ],
      "execution_count": 1,
      "outputs": []
    },
    {
      "cell_type": "code",
      "metadata": {
        "id": "MVaevBqJPu92",
        "colab": {
          "base_uri": "https://localhost:8080/"
        },
        "outputId": "fd3fdba9-28da-468c-a26e-3139333e3444"
      },
      "source": [
        "#https://drive.google.com/file/d/1lK4KbVdtHV_0JSQyhM333t0RGn6jIlzT/view?usp=sharing\n",
        "from pydrive.auth import GoogleAuth\n",
        "from pydrive.drive import GoogleDrive\n",
        "from google.colab import auth\n",
        "from oauth2client.client import GoogleCredentials\n",
        "\n",
        "# 1. Authenticate and create the PyDrive client.\n",
        "auth.authenticate_user()\n",
        "gauth = GoogleAuth()\n",
        "#gauth.credentials = GoogleCredentials.get_application_default()\n",
        "#drive = GoogleDrive(gauth)\n",
        "\n",
        "# id of file you want to access\n",
        "\n",
        "unknown = {'id': '1lK4KbVdtHV_0JSQyhM333t0RGn6jIlzT'}\n",
        "from google.colab import drive\n",
        "drive.mount('/content/drive')\n",
        " "
      ],
      "execution_count": 2,
      "outputs": [
        {
          "output_type": "stream",
          "text": [
            "Mounted at /content/drive\n"
          ],
          "name": "stdout"
        }
      ]
    },
    {
      "cell_type": "code",
      "metadata": {
        "id": "f7Jg1ZXEV1SJ"
      },
      "source": [
        "#Creating a list of image filenames\n",
        "path = \"/content/drive/My Drive/MLIIProject4/train\"\n",
        "img_names = []  #creating a empty list\n",
        "\n",
        "for folder, subfolder,filenames in os.walk(path):\n",
        "    for img in filenames:\n",
        "        img_names.append(folder+'/'+img)"
      ],
      "execution_count": 3,
      "outputs": []
    },
    {
      "cell_type": "code",
      "metadata": {
        "colab": {
          "base_uri": "https://localhost:8080/"
        },
        "id": "QBFlVRb4N8Sd",
        "outputId": "a08229e4-da4e-4952-8144-65875ae2efd8"
      },
      "source": [
        "img_names"
      ],
      "execution_count": 4,
      "outputs": [
        {
          "output_type": "execute_result",
          "data": {
            "text/plain": [
              "['/content/drive/My Drive/MLIIProject4/train/Aletters/A2.jpg',\n",
              " '/content/drive/My Drive/MLIIProject4/train/Aletters/A3.jpg',\n",
              " '/content/drive/My Drive/MLIIProject4/train/Aletters/259.jpg',\n",
              " '/content/drive/My Drive/MLIIProject4/train/Aletters/A5.jpg',\n",
              " '/content/drive/My Drive/MLIIProject4/train/Aletters/A6.jpg',\n",
              " '/content/drive/My Drive/MLIIProject4/train/Aletters/A7.jpg',\n",
              " '/content/drive/My Drive/MLIIProject4/train/Aletters/A8.jpg',\n",
              " '/content/drive/My Drive/MLIIProject4/train/Aletters/A9.jpg',\n",
              " '/content/drive/My Drive/MLIIProject4/train/Aletters/A10.jpg',\n",
              " '/content/drive/My Drive/MLIIProject4/train/Aletters/A11.jpg',\n",
              " '/content/drive/My Drive/MLIIProject4/train/Aletters/A17.jpg',\n",
              " '/content/drive/My Drive/MLIIProject4/train/Aletters/A18.jpg',\n",
              " '/content/drive/My Drive/MLIIProject4/train/Aletters/A19.jpg',\n",
              " '/content/drive/My Drive/MLIIProject4/train/Aletters/A21.jpg',\n",
              " '/content/drive/My Drive/MLIIProject4/train/Aletters/A22.jpg',\n",
              " '/content/drive/My Drive/MLIIProject4/train/Aletters/A24.jpg',\n",
              " '/content/drive/My Drive/MLIIProject4/train/Aletters/A25.jpg',\n",
              " '/content/drive/My Drive/MLIIProject4/train/Aletters/A26.jpg',\n",
              " '/content/drive/My Drive/MLIIProject4/train/Aletters/A28.jpg',\n",
              " '/content/drive/My Drive/MLIIProject4/train/Aletters/A29.jpg',\n",
              " '/content/drive/My Drive/MLIIProject4/train/Aletters/A30.jpg',\n",
              " '/content/drive/My Drive/MLIIProject4/train/Aletters/A31.jpg',\n",
              " '/content/drive/My Drive/MLIIProject4/train/Aletters/A33.jpg',\n",
              " '/content/drive/My Drive/MLIIProject4/train/Aletters/A32.jpg',\n",
              " '/content/drive/My Drive/MLIIProject4/train/Aletters/A34.jpg',\n",
              " '/content/drive/My Drive/MLIIProject4/train/Aletters/A35.jpg',\n",
              " '/content/drive/My Drive/MLIIProject4/train/Aletters/A36.jpg',\n",
              " '/content/drive/My Drive/MLIIProject4/train/Aletters/A37.jpg',\n",
              " '/content/drive/My Drive/MLIIProject4/train/Aletters/A38.jpg',\n",
              " '/content/drive/My Drive/MLIIProject4/train/Aletters/A39.jpg',\n",
              " '/content/drive/My Drive/MLIIProject4/train/Aletters/A40.jpg',\n",
              " '/content/drive/My Drive/MLIIProject4/train/Aletters/A41.jpg',\n",
              " '/content/drive/My Drive/MLIIProject4/train/Aletters/A42.jpg',\n",
              " '/content/drive/My Drive/MLIIProject4/train/Aletters/A43.jpg',\n",
              " '/content/drive/My Drive/MLIIProject4/train/Aletters/A44.jpg',\n",
              " '/content/drive/My Drive/MLIIProject4/train/Aletters/A45.jpg',\n",
              " '/content/drive/My Drive/MLIIProject4/train/Aletters/A46.jpg',\n",
              " '/content/drive/My Drive/MLIIProject4/train/Aletters/A47.jpg',\n",
              " '/content/drive/My Drive/MLIIProject4/train/Aletters/A49.jpg',\n",
              " '/content/drive/My Drive/MLIIProject4/train/Aletters/A48.jpg',\n",
              " '/content/drive/My Drive/MLIIProject4/train/Aletters/A50.jpg',\n",
              " '/content/drive/My Drive/MLIIProject4/train/Aletters/251.jpg',\n",
              " '/content/drive/My Drive/MLIIProject4/train/Aletters/252.jpg',\n",
              " '/content/drive/My Drive/MLIIProject4/train/Aletters/253.jpg',\n",
              " '/content/drive/My Drive/MLIIProject4/train/Aletters/254.jpg',\n",
              " '/content/drive/My Drive/MLIIProject4/train/Aletters/255.jpg',\n",
              " '/content/drive/My Drive/MLIIProject4/train/Aletters/256.jpg',\n",
              " '/content/drive/My Drive/MLIIProject4/train/Aletters/257.jpg',\n",
              " '/content/drive/My Drive/MLIIProject4/train/Aletters/261.jpg',\n",
              " '/content/drive/My Drive/MLIIProject4/train/Aletters/265.jpg',\n",
              " '/content/drive/My Drive/MLIIProject4/train/Bletters/B9.jpg',\n",
              " '/content/drive/My Drive/MLIIProject4/train/Bletters/B10.jpg',\n",
              " '/content/drive/My Drive/MLIIProject4/train/Bletters/B11.jpg',\n",
              " '/content/drive/My Drive/MLIIProject4/train/Bletters/B12.jpg',\n",
              " '/content/drive/My Drive/MLIIProject4/train/Bletters/B13.jpg',\n",
              " '/content/drive/My Drive/MLIIProject4/train/Bletters/B14.jpg',\n",
              " '/content/drive/My Drive/MLIIProject4/train/Bletters/B15.jpg',\n",
              " '/content/drive/My Drive/MLIIProject4/train/Bletters/B16.jpg',\n",
              " '/content/drive/My Drive/MLIIProject4/train/Bletters/B17.jpg',\n",
              " '/content/drive/My Drive/MLIIProject4/train/Bletters/B18.jpg',\n",
              " '/content/drive/My Drive/MLIIProject4/train/Bletters/B19.jpg',\n",
              " '/content/drive/My Drive/MLIIProject4/train/Bletters/B20.jpg',\n",
              " '/content/drive/My Drive/MLIIProject4/train/Bletters/B21.jpg',\n",
              " '/content/drive/My Drive/MLIIProject4/train/Bletters/B27.jpg',\n",
              " '/content/drive/My Drive/MLIIProject4/train/Bletters/B28.jpg',\n",
              " '/content/drive/My Drive/MLIIProject4/train/Bletters/B29.jpg',\n",
              " '/content/drive/My Drive/MLIIProject4/train/Bletters/B30.jpg',\n",
              " '/content/drive/My Drive/MLIIProject4/train/Bletters/B31.jpg',\n",
              " '/content/drive/My Drive/MLIIProject4/train/Bletters/B32.jpg',\n",
              " '/content/drive/My Drive/MLIIProject4/train/Bletters/B33.jpg',\n",
              " '/content/drive/My Drive/MLIIProject4/train/Bletters/B34.jpg',\n",
              " '/content/drive/My Drive/MLIIProject4/train/Bletters/B35.jpg',\n",
              " '/content/drive/My Drive/MLIIProject4/train/Bletters/B37.jpg',\n",
              " '/content/drive/My Drive/MLIIProject4/train/Bletters/B36.jpg',\n",
              " '/content/drive/My Drive/MLIIProject4/train/Bletters/B38.jpg',\n",
              " '/content/drive/My Drive/MLIIProject4/train/Bletters/B39.jpg',\n",
              " '/content/drive/My Drive/MLIIProject4/train/Bletters/B49.jpg',\n",
              " '/content/drive/My Drive/MLIIProject4/train/Bletters/B40.jpg',\n",
              " '/content/drive/My Drive/MLIIProject4/train/Bletters/B41.jpg',\n",
              " '/content/drive/My Drive/MLIIProject4/train/Bletters/B42.jpg',\n",
              " '/content/drive/My Drive/MLIIProject4/train/Bletters/B43.jpg',\n",
              " '/content/drive/My Drive/MLIIProject4/train/Bletters/B44.jpg',\n",
              " '/content/drive/My Drive/MLIIProject4/train/Bletters/B45.jpg',\n",
              " '/content/drive/My Drive/MLIIProject4/train/Bletters/B46.jpg',\n",
              " '/content/drive/My Drive/MLIIProject4/train/Bletters/B47.jpg',\n",
              " '/content/drive/My Drive/MLIIProject4/train/Bletters/B48.jpg',\n",
              " '/content/drive/My Drive/MLIIProject4/train/Bletters/B50.jpg',\n",
              " '/content/drive/My Drive/MLIIProject4/train/Bletters/271.jpg',\n",
              " '/content/drive/My Drive/MLIIProject4/train/Bletters/272.jpg',\n",
              " '/content/drive/My Drive/MLIIProject4/train/Bletters/273.jpg',\n",
              " '/content/drive/My Drive/MLIIProject4/train/Bletters/274.jpg',\n",
              " '/content/drive/My Drive/MLIIProject4/train/Bletters/275.jpg',\n",
              " '/content/drive/My Drive/MLIIProject4/train/Bletters/276.jpg',\n",
              " '/content/drive/My Drive/MLIIProject4/train/Bletters/277.jpg',\n",
              " '/content/drive/My Drive/MLIIProject4/train/Bletters/278.jpg',\n",
              " '/content/drive/My Drive/MLIIProject4/train/Bletters/281.jpg',\n",
              " '/content/drive/My Drive/MLIIProject4/train/Bletters/282.jpg',\n",
              " '/content/drive/My Drive/MLIIProject4/train/Bletters/283.jpg',\n",
              " '/content/drive/My Drive/MLIIProject4/train/Bletters/284.jpg',\n",
              " '/content/drive/My Drive/MLIIProject4/train/Bletters/287.jpg',\n",
              " '/content/drive/My Drive/MLIIProject4/train/Cletters/C1.jpg',\n",
              " '/content/drive/My Drive/MLIIProject4/train/Cletters/C2.jpg',\n",
              " '/content/drive/My Drive/MLIIProject4/train/Cletters/C3.jpg',\n",
              " '/content/drive/My Drive/MLIIProject4/train/Cletters/C4.jpg',\n",
              " '/content/drive/My Drive/MLIIProject4/train/Cletters/C5.jpg',\n",
              " '/content/drive/My Drive/MLIIProject4/train/Cletters/C6.jpg',\n",
              " '/content/drive/My Drive/MLIIProject4/train/Cletters/C7.jpg',\n",
              " '/content/drive/My Drive/MLIIProject4/train/Cletters/C8.jpg',\n",
              " '/content/drive/My Drive/MLIIProject4/train/Cletters/C9.jpg',\n",
              " '/content/drive/My Drive/MLIIProject4/train/Cletters/C10.jpg',\n",
              " '/content/drive/My Drive/MLIIProject4/train/Cletters/C11.jpg',\n",
              " '/content/drive/My Drive/MLIIProject4/train/Cletters/C12.jpg',\n",
              " '/content/drive/My Drive/MLIIProject4/train/Cletters/C13.jpg',\n",
              " '/content/drive/My Drive/MLIIProject4/train/Cletters/C14.jpg',\n",
              " '/content/drive/My Drive/MLIIProject4/train/Cletters/C16.jpg',\n",
              " '/content/drive/My Drive/MLIIProject4/train/Cletters/C17.jpg',\n",
              " '/content/drive/My Drive/MLIIProject4/train/Cletters/C18.jpg',\n",
              " '/content/drive/My Drive/MLIIProject4/train/Cletters/C19.jpg',\n",
              " '/content/drive/My Drive/MLIIProject4/train/Cletters/C20.jpg',\n",
              " '/content/drive/My Drive/MLIIProject4/train/Cletters/C21.jpg',\n",
              " '/content/drive/My Drive/MLIIProject4/train/Cletters/C22.jpg',\n",
              " '/content/drive/My Drive/MLIIProject4/train/Cletters/C24.jpg',\n",
              " '/content/drive/My Drive/MLIIProject4/train/Cletters/C25.jpg',\n",
              " '/content/drive/My Drive/MLIIProject4/train/Cletters/C26.jpg',\n",
              " '/content/drive/My Drive/MLIIProject4/train/Cletters/C27.jpg',\n",
              " '/content/drive/My Drive/MLIIProject4/train/Cletters/C28.jpg',\n",
              " '/content/drive/My Drive/MLIIProject4/train/Cletters/C29.jpg',\n",
              " '/content/drive/My Drive/MLIIProject4/train/Cletters/C30.jpg',\n",
              " '/content/drive/My Drive/MLIIProject4/train/Cletters/C31.jpg',\n",
              " '/content/drive/My Drive/MLIIProject4/train/Cletters/C32.jpg',\n",
              " '/content/drive/My Drive/MLIIProject4/train/Cletters/C33.jpg',\n",
              " '/content/drive/My Drive/MLIIProject4/train/Cletters/C34.jpg',\n",
              " '/content/drive/My Drive/MLIIProject4/train/Cletters/C35.jpg',\n",
              " '/content/drive/My Drive/MLIIProject4/train/Cletters/C36.jpg',\n",
              " '/content/drive/My Drive/MLIIProject4/train/Cletters/C37.jpg',\n",
              " '/content/drive/My Drive/MLIIProject4/train/Cletters/C38.jpg',\n",
              " '/content/drive/My Drive/MLIIProject4/train/Cletters/C39.jpg',\n",
              " '/content/drive/My Drive/MLIIProject4/train/Cletters/C40.jpg',\n",
              " '/content/drive/My Drive/MLIIProject4/train/Cletters/C41.jpg',\n",
              " '/content/drive/My Drive/MLIIProject4/train/Cletters/C42.jpg',\n",
              " '/content/drive/My Drive/MLIIProject4/train/Cletters/C43.jpg',\n",
              " '/content/drive/My Drive/MLIIProject4/train/Cletters/C44.jpg',\n",
              " '/content/drive/My Drive/MLIIProject4/train/Cletters/C45.jpg',\n",
              " '/content/drive/My Drive/MLIIProject4/train/Cletters/C46.jpg',\n",
              " '/content/drive/My Drive/MLIIProject4/train/Cletters/C47.jpg',\n",
              " '/content/drive/My Drive/MLIIProject4/train/Cletters/C48.jpg',\n",
              " '/content/drive/My Drive/MLIIProject4/train/Cletters/C49.jpg',\n",
              " '/content/drive/My Drive/MLIIProject4/train/Cletters/C50.jpg',\n",
              " '/content/drive/My Drive/MLIIProject4/train/Cletters/C15.jpg',\n",
              " '/content/drive/My Drive/MLIIProject4/train/Cletters/C23.jpg',\n",
              " '/content/drive/My Drive/MLIIProject4/train/Dletters/D11.jpg',\n",
              " '/content/drive/My Drive/MLIIProject4/train/Dletters/D12.jpg',\n",
              " '/content/drive/My Drive/MLIIProject4/train/Dletters/D14.jpg',\n",
              " '/content/drive/My Drive/MLIIProject4/train/Dletters/D13.jpg',\n",
              " '/content/drive/My Drive/MLIIProject4/train/Dletters/D15.jpg',\n",
              " '/content/drive/My Drive/MLIIProject4/train/Dletters/D16.jpg',\n",
              " '/content/drive/My Drive/MLIIProject4/train/Dletters/D18.jpg',\n",
              " '/content/drive/My Drive/MLIIProject4/train/Dletters/D17.jpg',\n",
              " '/content/drive/My Drive/MLIIProject4/train/Dletters/D19.jpg',\n",
              " '/content/drive/My Drive/MLIIProject4/train/Dletters/D20.jpg',\n",
              " '/content/drive/My Drive/MLIIProject4/train/Dletters/D21.jpg',\n",
              " '/content/drive/My Drive/MLIIProject4/train/Dletters/d22.jpg',\n",
              " '/content/drive/My Drive/MLIIProject4/train/Dletters/D23.jpg',\n",
              " '/content/drive/My Drive/MLIIProject4/train/Dletters/D24.jpg',\n",
              " '/content/drive/My Drive/MLIIProject4/train/Dletters/D25.jpg',\n",
              " '/content/drive/My Drive/MLIIProject4/train/Dletters/D26.jpg',\n",
              " '/content/drive/My Drive/MLIIProject4/train/Dletters/D27.jpg',\n",
              " '/content/drive/My Drive/MLIIProject4/train/Dletters/D28.jpg',\n",
              " '/content/drive/My Drive/MLIIProject4/train/Dletters/D29.jpg',\n",
              " '/content/drive/My Drive/MLIIProject4/train/Dletters/D30.jpg',\n",
              " '/content/drive/My Drive/MLIIProject4/train/Dletters/D48.jpg',\n",
              " '/content/drive/My Drive/MLIIProject4/train/Dletters/D32.jpg',\n",
              " '/content/drive/My Drive/MLIIProject4/train/Dletters/D31.jpg',\n",
              " '/content/drive/My Drive/MLIIProject4/train/Dletters/D33.jpg',\n",
              " '/content/drive/My Drive/MLIIProject4/train/Dletters/D34.jpg',\n",
              " '/content/drive/My Drive/MLIIProject4/train/Dletters/D36.jpg',\n",
              " '/content/drive/My Drive/MLIIProject4/train/Dletters/D35.jpg',\n",
              " '/content/drive/My Drive/MLIIProject4/train/Dletters/D37.jpg',\n",
              " '/content/drive/My Drive/MLIIProject4/train/Dletters/D38.jpg',\n",
              " '/content/drive/My Drive/MLIIProject4/train/Dletters/D40.jpg',\n",
              " '/content/drive/My Drive/MLIIProject4/train/Dletters/D39.jpg',\n",
              " '/content/drive/My Drive/MLIIProject4/train/Dletters/D41.jpg',\n",
              " '/content/drive/My Drive/MLIIProject4/train/Dletters/D42.jpg',\n",
              " '/content/drive/My Drive/MLIIProject4/train/Dletters/D43.jpg',\n",
              " '/content/drive/My Drive/MLIIProject4/train/Dletters/D44.jpg',\n",
              " '/content/drive/My Drive/MLIIProject4/train/Dletters/D45.jpg',\n",
              " '/content/drive/My Drive/MLIIProject4/train/Dletters/D46.jpg',\n",
              " '/content/drive/My Drive/MLIIProject4/train/Dletters/D47.jpg',\n",
              " '/content/drive/My Drive/MLIIProject4/train/Dletters/D49.jpg',\n",
              " '/content/drive/My Drive/MLIIProject4/train/Dletters/D50.jpg',\n",
              " '/content/drive/My Drive/MLIIProject4/train/Dletters/401.jpg',\n",
              " '/content/drive/My Drive/MLIIProject4/train/Dletters/402.jpg',\n",
              " '/content/drive/My Drive/MLIIProject4/train/Dletters/403.jpg',\n",
              " '/content/drive/My Drive/MLIIProject4/train/Dletters/404.jpg',\n",
              " '/content/drive/My Drive/MLIIProject4/train/Dletters/405.jpg',\n",
              " '/content/drive/My Drive/MLIIProject4/train/Dletters/406.jpg',\n",
              " '/content/drive/My Drive/MLIIProject4/train/Dletters/407.jpg',\n",
              " '/content/drive/My Drive/MLIIProject4/train/Dletters/408.jpg',\n",
              " '/content/drive/My Drive/MLIIProject4/train/Dletters/409.jpg',\n",
              " '/content/drive/My Drive/MLIIProject4/train/Dletters/410.jpg',\n",
              " '/content/drive/My Drive/MLIIProject4/train/Eletters/423.jpg',\n",
              " '/content/drive/My Drive/MLIIProject4/train/Eletters/421.jpg',\n",
              " '/content/drive/My Drive/MLIIProject4/train/Eletters/440.jpg',\n",
              " '/content/drive/My Drive/MLIIProject4/train/Eletters/422.jpg',\n",
              " '/content/drive/My Drive/MLIIProject4/train/Eletters/424.jpg',\n",
              " '/content/drive/My Drive/MLIIProject4/train/Eletters/425.jpg',\n",
              " '/content/drive/My Drive/MLIIProject4/train/Eletters/E6.jpg',\n",
              " '/content/drive/My Drive/MLIIProject4/train/Eletters/E7.jpg',\n",
              " '/content/drive/My Drive/MLIIProject4/train/Eletters/E8.jpg',\n",
              " '/content/drive/My Drive/MLIIProject4/train/Eletters/E9.jpg',\n",
              " '/content/drive/My Drive/MLIIProject4/train/Eletters/E10.jpg',\n",
              " '/content/drive/My Drive/MLIIProject4/train/Eletters/E12.jpg',\n",
              " '/content/drive/My Drive/MLIIProject4/train/Eletters/E13.jpg',\n",
              " '/content/drive/My Drive/MLIIProject4/train/Eletters/E14.jpg',\n",
              " '/content/drive/My Drive/MLIIProject4/train/Eletters/E15.jpg',\n",
              " '/content/drive/My Drive/MLIIProject4/train/Eletters/E16.jpg',\n",
              " '/content/drive/My Drive/MLIIProject4/train/Eletters/E17.jpg',\n",
              " '/content/drive/My Drive/MLIIProject4/train/Eletters/E18.jpg',\n",
              " '/content/drive/My Drive/MLIIProject4/train/Eletters/E19.jpg',\n",
              " '/content/drive/My Drive/MLIIProject4/train/Eletters/E20.jpg',\n",
              " '/content/drive/My Drive/MLIIProject4/train/Eletters/E21.jpg',\n",
              " '/content/drive/My Drive/MLIIProject4/train/Eletters/E22.jpg',\n",
              " '/content/drive/My Drive/MLIIProject4/train/Eletters/E23.jpg',\n",
              " '/content/drive/My Drive/MLIIProject4/train/Eletters/E24.jpg',\n",
              " '/content/drive/My Drive/MLIIProject4/train/Eletters/E25.jpg',\n",
              " '/content/drive/My Drive/MLIIProject4/train/Eletters/E26.jpg',\n",
              " '/content/drive/My Drive/MLIIProject4/train/Eletters/E27.jpg',\n",
              " '/content/drive/My Drive/MLIIProject4/train/Eletters/E28.jpg',\n",
              " '/content/drive/My Drive/MLIIProject4/train/Eletters/E29.jpg',\n",
              " '/content/drive/My Drive/MLIIProject4/train/Eletters/E30.jpg',\n",
              " '/content/drive/My Drive/MLIIProject4/train/Eletters/E31.jpg',\n",
              " '/content/drive/My Drive/MLIIProject4/train/Eletters/E32.jpg',\n",
              " '/content/drive/My Drive/MLIIProject4/train/Eletters/E33.jpg',\n",
              " '/content/drive/My Drive/MLIIProject4/train/Eletters/E34.jpg',\n",
              " '/content/drive/My Drive/MLIIProject4/train/Eletters/E35.jpg',\n",
              " '/content/drive/My Drive/MLIIProject4/train/Eletters/E37.jpg',\n",
              " '/content/drive/My Drive/MLIIProject4/train/Eletters/E38.jpg',\n",
              " '/content/drive/My Drive/MLIIProject4/train/Eletters/E39.jpg',\n",
              " '/content/drive/My Drive/MLIIProject4/train/Eletters/E40.jpg',\n",
              " '/content/drive/My Drive/MLIIProject4/train/Eletters/E41.jpg',\n",
              " '/content/drive/My Drive/MLIIProject4/train/Eletters/E42.jpg',\n",
              " '/content/drive/My Drive/MLIIProject4/train/Eletters/E43.jpg',\n",
              " '/content/drive/My Drive/MLIIProject4/train/Eletters/E44.jpg',\n",
              " '/content/drive/My Drive/MLIIProject4/train/Eletters/E45.jpg',\n",
              " '/content/drive/My Drive/MLIIProject4/train/Eletters/E46.jpg',\n",
              " '/content/drive/My Drive/MLIIProject4/train/Eletters/E47.jpg',\n",
              " '/content/drive/My Drive/MLIIProject4/train/Eletters/E48.jpg',\n",
              " '/content/drive/My Drive/MLIIProject4/train/Eletters/E49.jpg',\n",
              " '/content/drive/My Drive/MLIIProject4/train/Eletters/E50.jpg',\n",
              " '/content/drive/My Drive/MLIIProject4/train/Eletters/E36.jpg']"
            ]
          },
          "metadata": {
            "tags": []
          },
          "execution_count": 4
        }
      ]
    },
    {
      "cell_type": "code",
      "metadata": {
        "colab": {
          "base_uri": "https://localhost:8080/",
          "height": 250
        },
        "id": "iehBiS23S1QB",
        "outputId": "2a4ba3fc-2cf5-479f-93ae-ed16207942f9"
      },
      "source": [
        "# Image opened using Pillow Image\n",
        "with Image.open('/content/drive/My Drive/MLIIProject4/train/Bletters/B12.jpg') as im:\n",
        "    display(im)"
      ],
      "execution_count": 5,
      "outputs": [
        {
          "output_type": "display_data",
          "data": {
            "image/png": "[encoded data removed]",
            "text/plain": [
              "<PIL.JpegImagePlugin.JpegImageFile image mode=RGB size=163x233 at 0x7EFFFF993DD0>"
            ]
          },
          "metadata": {
            "tags": []
          }
        }
      ]
    },
    {
      "cell_type": "code",
      "metadata": {
        "colab": {
          "base_uri": "https://localhost:8080/"
        },
        "id": "9q9mTP9nWLbE",
        "outputId": "482fcf12-8f33-4366-a747-93ff4fdc7136"
      },
      "source": [
        "#total of image names\n",
        "len(img_names)"
      ],
      "execution_count": 6,
      "outputs": [
        {
          "output_type": "execute_result",
          "data": {
            "text/plain": [
              "250"
            ]
          },
          "metadata": {
            "tags": []
          },
          "execution_count": 6
        }
      ]
    },
    {
      "cell_type": "code",
      "metadata": {
        "id": "l9NHze9DWWo2"
      },
      "source": [
        "import torch\n",
        "import torch.nn as nn\n",
        "import torch.nn.functional as F\n",
        "from torch.utils.data import DataLoader\n",
        "from torchvision import datasets, transforms, models # add models to the list\n",
        "from torchvision.utils import make_grid\n",
        "import os\n",
        "\n",
        "import numpy as np\n",
        "import pandas as pd\n",
        "import matplotlib.pyplot as plt\n",
        "%matplotlib inline\n",
        "\n",
        "# ignore harmless warnings\n",
        "import warnings\n",
        "warnings.filterwarnings(\"ignore\")"
      ],
      "execution_count": 7,
      "outputs": []
    },
    {
      "cell_type": "code",
      "metadata": {
        "id": "yIM0BfYsWnpW"
      },
      "source": [
        "#We need to define the models\n",
        "\n",
        "train_transform = transforms.Compose([\n",
        "        transforms.Resize(28),              \n",
        "        transforms.CenterCrop(28),          \n",
        "        transforms.Grayscale(num_output_channels=1),\n",
        "        transforms.ToTensor(),\n",
        "        transforms.Normalize([.5,],[.5,])\n",
        "    ])\n",
        "\n",
        "test_transform = transforms.Compose([\n",
        "        transforms.Resize(28),\n",
        "        transforms.CenterCrop(28),\n",
        "        transforms.Grayscale(num_output_channels=1),\n",
        "        transforms.ToTensor(),\n",
        "       transforms.Normalize([.5,],[.5,])\n",
        "    ])"
      ],
      "execution_count": 8,
      "outputs": []
    },
    {
      "cell_type": "code",
      "metadata": {
        "id": "0F7lkh5nWzRa",
        "colab": {
          "base_uri": "https://localhost:8080/"
        },
        "outputId": "3606d381-c352-4f03-ec61-daadd072cf64"
      },
      "source": [
        "train_transform"
      ],
      "execution_count": 9,
      "outputs": [
        {
          "output_type": "execute_result",
          "data": {
            "text/plain": [
              "Compose(\n",
              "    Resize(size=28, interpolation=bilinear)\n",
              "    CenterCrop(size=(28, 28))\n",
              "    Grayscale(num_output_channels=1)\n",
              "    ToTensor()\n",
              "    Normalize(mean=[0.5], std=[0.5])\n",
              ")"
            ]
          },
          "metadata": {
            "tags": []
          },
          "execution_count": 9
        }
      ]
    },
    {
      "cell_type": "code",
      "metadata": {
        "colab": {
          "base_uri": "https://localhost:8080/"
        },
        "id": "soz7uula4c7-",
        "outputId": "e148217e-8ffc-498f-d706-849a0e18effa"
      },
      "source": [
        "root = '/content/drive/My Drive/MLIIProject4'\n",
        "\n",
        "train_data = datasets.ImageFolder(os.path.join(root, 'train'), transform=train_transform) #call imagefolder off of datasets\n",
        "test_data = datasets.ImageFolder(os.path.join(root, 'test'), transform=test_transform)\n",
        "\n",
        "torch.manual_seed(42)\n",
        "train_loader = DataLoader(train_data, batch_size=10, shuffle=True)\n",
        "test_loader = DataLoader(test_data, batch_size=10, shuffle=True)\n",
        "\n",
        "class_names = train_data.classes\n",
        "\n",
        "print(class_names)\n",
        "print(f'Training images available: {len(train_data)}')\n",
        "print(f'Testing images available:  {len(test_data)}')"
      ],
      "execution_count": 10,
      "outputs": [
        {
          "output_type": "stream",
          "text": [
            "['Aletters', 'Bletters', 'Cletters', 'Dletters', 'Eletters']\n",
            "Training images available: 250\n",
            "Testing images available:  100\n"
          ],
          "name": "stdout"
        }
      ]
    },
    {
      "cell_type": "code",
      "metadata": {
        "colab": {
          "base_uri": "https://localhost:8080/"
        },
        "id": "6wis65Qi4vKO",
        "outputId": "85e8360d-625c-4151-88ee-f520082f1ac0"
      },
      "source": [
        "for images,labels in train_loader: \n",
        "\n",
        "    print(labels)\n",
        "   "
      ],
      "execution_count": 11,
      "outputs": [
        {
          "output_type": "stream",
          "text": [
            "tensor([0, 2, 0, 4, 1, 3, 1, 4, 1, 4])\n",
            "tensor([4, 2, 1, 2, 3, 4, 2, 2, 2, 0])\n",
            "tensor([0, 2, 1, 3, 3, 0, 4, 0, 1, 0])\n",
            "tensor([4, 2, 3, 3, 3, 2, 2, 0, 1, 2])\n",
            "tensor([0, 3, 1, 2, 2, 4, 1, 1, 4, 2])\n",
            "tensor([2, 3, 0, 0, 0, 2, 3, 1, 1, 3])\n",
            "tensor([2, 1, 3, 0, 3, 2, 3, 3, 3, 0])\n",
            "tensor([3, 0, 1, 4, 3, 1, 3, 0, 1, 2])\n",
            "tensor([2, 3, 1, 2, 1, 1, 1, 4, 4, 4])\n",
            "tensor([3, 4, 0, 1, 4, 0, 3, 1, 2, 0])\n",
            "tensor([3, 1, 4, 0, 4, 2, 2, 4, 2, 3])\n",
            "tensor([3, 1, 4, 0, 3, 3, 1, 4, 1, 3])\n",
            "tensor([4, 0, 0, 4, 3, 0, 1, 2, 0, 0])\n",
            "tensor([2, 0, 0, 4, 1, 0, 4, 4, 1, 3])\n",
            "tensor([1, 3, 2, 2, 3, 0, 4, 4, 0, 0])\n",
            "tensor([3, 4, 3, 2, 2, 0, 4, 1, 0, 2])\n",
            "tensor([4, 0, 2, 3, 0, 0, 2, 2, 1, 2])\n",
            "tensor([3, 3, 4, 4, 3, 1, 4, 3, 2, 1])\n",
            "tensor([0, 2, 2, 4, 4, 4, 0, 1, 0, 1])\n",
            "tensor([3, 1, 3, 4, 0, 2, 0, 1, 4, 1])\n",
            "tensor([0, 4, 0, 1, 2, 2, 3, 1, 2, 1])\n",
            "tensor([4, 4, 1, 3, 1, 4, 0, 4, 4, 4])\n",
            "tensor([3, 2, 3, 3, 4, 4, 1, 1, 0, 2])\n",
            "tensor([4, 4, 3, 1, 3, 1, 1, 0, 3, 2])\n",
            "tensor([4, 0, 2, 2, 0, 2, 0, 2, 1, 3])\n"
          ],
          "name": "stdout"
        }
      ]
    },
    {
      "cell_type": "code",
      "metadata": {
        "colab": {
          "base_uri": "https://localhost:8080/",
          "height": 155
        },
        "id": "TbbK6ulK5bcV",
        "outputId": "396213ae-498f-4d58-b6dd-3823b344b54c"
      },
      "source": [
        "# Print the labels\n",
        "print('Label:', labels.numpy())\n",
        "print('Class:', *np.array([class_names[i] for i in labels]))\n",
        "\n",
        "im = make_grid(images, nrow=5)  # the default nrow is 8\n",
        "\n",
        "# Inverse normalize the images\n",
        "inv_normalize = transforms.Normalize(\n",
        "    mean=[-1],\n",
        "    std=[2]\n",
        ")\n",
        "im_inv = inv_normalize(im)\n",
        "\n",
        "# Print the images\n",
        "plt.figure(figsize=(3,4))\n",
        "plt.imshow(np.transpose(im_inv.numpy(), (1, 2, 0)));"
      ],
      "execution_count": 12,
      "outputs": [
        {
          "output_type": "stream",
          "text": [
            "Label: [4 0 2 2 0 2 0 2 1 3]\n",
            "Class: Eletters Aletters Cletters Cletters Aletters Cletters Aletters Cletters Bletters Dletters\n"
          ],
          "name": "stdout"
        },
        {
          "output_type": "display_data",
          "data": {
            "image/png": "[encoded data removed]",
            "text/plain": [
              "<Figure size 216x288 with 1 Axes>"
            ]
          },
          "metadata": {
            "tags": [],
            "needs_background": "light"
          }
        }
      ]
    },
    {
      "cell_type": "code",
      "metadata": {
        "colab": {
          "base_uri": "https://localhost:8080/",
          "height": 59
        },
        "id": "DtcOoco9uJe-",
        "outputId": "fd5b13ab-686f-4c8d-9a91-d9c512d35819"
      },
      "source": [
        "figure = plt.figure()\n",
        "num_of_images = 9\n",
        "for index in range(1, num_of_images + 1):\n",
        "    plt.subplot(6, 10, index)\n",
        "    plt.axis('off')\n",
        "    plt.imshow(images[index].numpy().squeeze(), cmap='gray_r')"
      ],
      "execution_count": 13,
      "outputs": [
        {
          "output_type": "display_data",
          "data": {
            "image/png": "[encoded data removed]",
            "text/plain": [
              "<Figure size 432x288 with 9 Axes>"
            ]
          },
          "metadata": {
            "tags": [],
            "needs_background": "light"
          }
        }
      ]
    },
    {
      "cell_type": "code",
      "metadata": {
        "colab": {
          "base_uri": "https://localhost:8080/"
        },
        "id": "2Ta_XDZOahXS",
        "outputId": "11547259-fdf4-4652-9de1-cb3028954359"
      },
      "source": [
        "print(images.shape)\n",
        "print(labels.shape)"
      ],
      "execution_count": 14,
      "outputs": [
        {
          "output_type": "stream",
          "text": [
            "torch.Size([10, 1, 28, 28])\n",
            "torch.Size([10])\n"
          ],
          "name": "stdout"
        }
      ]
    },
    {
      "cell_type": "code",
      "metadata": {
        "id": "qfAmwRl_jwyB"
      },
      "source": [
        "class ConvolutionalNetwork(nn.Module):\n",
        "    def __init__(self):\n",
        "        super(ConvolutionalNetwork, self).__init__()\n",
        "        \n",
        "        # Convolution 1    Tried 16 and 32.  Didn't change much\n",
        "        self.cnn1 = nn.Conv2d(in_channels=1, out_channels=32, kernel_size=3, stride=1, padding=0)\n",
        "        self.relu1 = nn.ReLU()\n",
        "        \n",
        "        # Max pool 1\n",
        "        self.maxpool1 = nn.MaxPool2d(kernel_size=2)\n",
        "     \n",
        "        # Convolution 2  Tried 16 and 32 and 32 and 64.  Didn't change much\n",
        "        self.cnn2 = nn.Conv2d(in_channels=32, out_channels=64, kernel_size=3, stride=1, padding=0)\n",
        "        self.relu2 = nn.ReLU()\n",
        "        \n",
        "        # Max pool 2\n",
        "        self.maxpool2 = nn.MaxPool2d(kernel_size=2)\n",
        "\n",
        "        # Define dropout - tried .05 - .25\n",
        "        self.dropout = nn.Dropout(0.05)\n",
        "        \n",
        "        # Fully connected 1\n",
        "        self.fc1 = nn.Linear(64 * 5 * 5, 10) \n",
        "    \n",
        "    def forward(self, x):\n",
        "        # Set 1\n",
        "        out = self.cnn1(x)\n",
        "        out = self.relu1(out)\n",
        "        out = self.maxpool1(out)\n",
        "        \n",
        "        # Set 2\n",
        "        out = self.cnn2(out)\n",
        "        out = self.relu2(out)\n",
        "        out = self.maxpool2(out)\n",
        "        \n",
        "        #Flatten\n",
        "        out = out.view(out.size(0), -1)\n",
        "\n",
        "        #Dense\n",
        "        out = self.fc1(out)\n",
        "        \n",
        "        return out\n",
        "\n",
        "#Definition of hyperparameters\n",
        "n_iters = 2500\n",
        "num_epochs = n_iters / (len(train_loader) / 10)\n",
        "num_epochs = int(num_epochs)\n",
        "\n",
        "# Cross Entropy Loss \n",
        "error = nn.CrossEntropyLoss()\n",
        "\n",
        "# SGD Optimizer\n",
        "learning_rate = 0.001\n",
        "#optimizer = torch.optim.SGD(model.parameters(), lr=learning_rate)"
      ],
      "execution_count": 15,
      "outputs": []
    },
    {
      "cell_type": "code",
      "metadata": {
        "colab": {
          "base_uri": "https://localhost:8080/"
        },
        "id": "IIy-W1969nZk",
        "outputId": "857bb60b-ca5d-4dca-c1ca-3181e30a3cb9"
      },
      "source": [
        "torch.manual_seed(10) #setting the seed\n",
        "CNNmodel = ConvolutionalNetwork()\n",
        "criterion = nn.CrossEntropyLoss()\n",
        "optimizer = torch.optim.Adam(CNNmodel.parameters(), lr=0.001)  #adam optimizer \n",
        "CNNmodel"
      ],
      "execution_count": 16,
      "outputs": [
        {
          "output_type": "execute_result",
          "data": {
            "text/plain": [
              "ConvolutionalNetwork(\n",
              "  (cnn1): Conv2d(1, 32, kernel_size=(3, 3), stride=(1, 1))\n",
              "  (relu1): ReLU()\n",
              "  (maxpool1): MaxPool2d(kernel_size=2, stride=2, padding=0, dilation=1, ceil_mode=False)\n",
              "  (cnn2): Conv2d(32, 64, kernel_size=(3, 3), stride=(1, 1))\n",
              "  (relu2): ReLU()\n",
              "  (maxpool2): MaxPool2d(kernel_size=2, stride=2, padding=0, dilation=1, ceil_mode=False)\n",
              "  (dropout): Dropout(p=0.05, inplace=False)\n",
              "  (fc1): Linear(in_features=1600, out_features=10, bias=True)\n",
              ")"
            ]
          },
          "metadata": {
            "tags": []
          },
          "execution_count": 16
        }
      ]
    },
    {
      "cell_type": "code",
      "metadata": {
        "colab": {
          "base_uri": "https://localhost:8080/"
        },
        "id": "X2_XtR_x9tk6",
        "outputId": "e904871e-308d-4be0-cffc-25b63e036b09"
      },
      "source": [
        "#Train the model and run test dataset through\n",
        "\n",
        "import time\n",
        "start_time = time.time()\n",
        "\n",
        "# tried 20 - 400 epochs   Didn't seem to help over 20\n",
        "\n",
        "epochs = 50\n",
        "\n",
        "train_losses = []\n",
        "test_losses = []\n",
        "train_correct = []\n",
        "test_correct = []\n",
        "\n",
        "\n",
        "for i in range(epochs):  #this keep track of how many we got correct during training\n",
        "    trn_corr = 0  #training set\n",
        "    tst_corr = 0  #test set\n",
        "    \n",
        "# Run the training batches\n",
        "    for b, (X_train, y_train) in enumerate(train_loader):   \n",
        "            \n",
        "        b+=1\n",
        "        \n",
        "        #predicted image\n",
        "        # Apply the model\n",
        "       \n",
        "        y_pred = CNNmodel(X_train)  \n",
        "        #print(y_pred,y_train)\n",
        "        loss = criterion(y_pred, y_train)\n",
        " \n",
        "        # Tally the number of correct predictions\n",
        "        predicted = torch.max(y_pred.data, 1)[1]\n",
        "        batch_corr = (predicted == y_train).sum()\n",
        "        trn_corr += batch_corr\n",
        "        \n",
        "        \n",
        "         # Update parameters\n",
        "        optimizer.zero_grad()\n",
        "        loss.backward()\n",
        "        optimizer.step()\n",
        "        \n",
        "        \n",
        "        #We can get a print out for every 20 batches\n",
        "          # Print interim results\n",
        "       # if b%20 == 0:\n",
        "       #   print(f'Epoch: {i} LOSS:  {loss.item()}')\n",
        "            \n",
        "    train_losses.append(loss)\n",
        "    train_correct.append(trn_corr)\n",
        "\n",
        "    # TEST SET\n",
        "    # Run the testing batches\n",
        "    correct = 0\n",
        "    total = 0\n",
        "    with torch.no_grad():\n",
        "        for b, (X_test, y_test) in enumerate(test_loader):\n",
        "                            \n",
        "                # Apply the model\n",
        "                # PASS in predicted value\n",
        "            y_val = CNNmodel(X_test)\n",
        "                        \n",
        "                # See if we predicted correctly\n",
        "                 # Tally the number of correct predictions\n",
        "            predicted = torch.max(y_val.data, 1)[1] \n",
        "            batch_corr = (predicted==y_test).sum()\n",
        "            tst_corr = tst_corr + batch_corr\n",
        "               # Total number of labels\n",
        " \n",
        "            total=len(y_test)\n",
        "                    \n",
        "            accuracy = 100 * batch_corr / float(total)\n",
        "            if b%20 == 0:\n",
        "               print(f'Epoch: {i} ACCURACY:  {accuracy}')\n",
        " \n",
        "    loss = criterion(y_val, y_test)\n",
        "    test_losses.append(loss)\n",
        "    test_correct.append(tst_corr)\n",
        "            \n",
        "    \n",
        "total_time = time.time() - start_time\n",
        "print(f'Total Time: {total_time/60} minutes')"
      ],
      "execution_count": 17,
      "outputs": [
        {
          "output_type": "stream",
          "text": [
            "Epoch: 0 ACCURACY:  50.0\n",
            "Epoch: 1 ACCURACY:  50.0\n",
            "Epoch: 2 ACCURACY:  60.0\n",
            "Epoch: 3 ACCURACY:  60.0\n",
            "Epoch: 4 ACCURACY:  70.0\n",
            "Epoch: 5 ACCURACY:  70.0\n",
            "Epoch: 6 ACCURACY:  70.0\n",
            "Epoch: 7 ACCURACY:  60.0\n",
            "Epoch: 8 ACCURACY:  60.0\n",
            "Epoch: 9 ACCURACY:  70.0\n",
            "Epoch: 10 ACCURACY:  50.0\n",
            "Epoch: 11 ACCURACY:  80.0\n",
            "Epoch: 12 ACCURACY:  40.0\n",
            "Epoch: 13 ACCURACY:  60.0\n",
            "Epoch: 14 ACCURACY:  50.0\n",
            "Epoch: 15 ACCURACY:  60.0\n",
            "Epoch: 16 ACCURACY:  90.0\n",
            "Epoch: 17 ACCURACY:  80.0\n",
            "Epoch: 18 ACCURACY:  50.0\n",
            "Epoch: 19 ACCURACY:  90.0\n",
            "Epoch: 20 ACCURACY:  80.0\n",
            "Epoch: 21 ACCURACY:  80.0\n",
            "Epoch: 22 ACCURACY:  90.0\n",
            "Epoch: 23 ACCURACY:  80.0\n",
            "Epoch: 24 ACCURACY:  70.0\n",
            "Epoch: 25 ACCURACY:  90.0\n",
            "Epoch: 26 ACCURACY:  80.0\n",
            "Epoch: 27 ACCURACY:  70.0\n",
            "Epoch: 28 ACCURACY:  70.0\n",
            "Epoch: 29 ACCURACY:  60.0\n",
            "Epoch: 30 ACCURACY:  80.0\n",
            "Epoch: 31 ACCURACY:  80.0\n",
            "Epoch: 32 ACCURACY:  50.0\n",
            "Epoch: 33 ACCURACY:  60.0\n",
            "Epoch: 34 ACCURACY:  70.0\n",
            "Epoch: 35 ACCURACY:  70.0\n",
            "Epoch: 36 ACCURACY:  80.0\n",
            "Epoch: 37 ACCURACY:  80.0\n",
            "Epoch: 38 ACCURACY:  60.0\n",
            "Epoch: 39 ACCURACY:  90.0\n",
            "Epoch: 40 ACCURACY:  70.0\n",
            "Epoch: 41 ACCURACY:  80.0\n",
            "Epoch: 42 ACCURACY:  70.0\n",
            "Epoch: 43 ACCURACY:  80.0\n",
            "Epoch: 44 ACCURACY:  80.0\n",
            "Epoch: 45 ACCURACY:  50.0\n",
            "Epoch: 46 ACCURACY:  70.0\n",
            "Epoch: 47 ACCURACY:  80.0\n",
            "Epoch: 48 ACCURACY:  70.0\n",
            "Epoch: 49 ACCURACY:  90.0\n",
            "Total Time: 1.2457788864771524 minutes\n"
          ],
          "name": "stdout"
        }
      ]
    },
    {
      "cell_type": "code",
      "metadata": {
        "colab": {
          "base_uri": "https://localhost:8080/"
        },
        "id": "aSzua5l7pWfL",
        "outputId": "e5306c88-39f1-4065-d58d-9881d149b350"
      },
      "source": [
        "# To see how many we got correct\n",
        "print(test_correct)\n",
        "print(f'Test accuracy: {test_correct[-1].item()*100/100:.2f}%')"
      ],
      "execution_count": 18,
      "outputs": [
        {
          "output_type": "stream",
          "text": [
            "[tensor(20), tensor(32), tensor(52), tensor(45), tensor(58), tensor(55), tensor(56), tensor(59), tensor(64), tensor(69), tensor(62), tensor(69), tensor(66), tensor(70), tensor(71), tensor(73), tensor(76), tensor(70), tensor(72), tensor(72), tensor(76), tensor(78), tensor(76), tensor(72), tensor(78), tensor(79), tensor(78), tensor(74), tensor(77), tensor(75), tensor(76), tensor(79), tensor(73), tensor(78), tensor(74), tensor(76), tensor(80), tensor(81), tensor(80), tensor(79), tensor(77), tensor(81), tensor(80), tensor(74), tensor(81), tensor(78), tensor(80), tensor(81), tensor(80), tensor(81)]\n",
            "Test accuracy: 81.00%\n"
          ],
          "name": "stdout"
        }
      ]
    },
    {
      "cell_type": "code",
      "metadata": {
        "colab": {
          "base_uri": "https://localhost:8080/",
          "height": 281
        },
        "id": "TL-O3XBdo7LC",
        "outputId": "519381cc-2140-4338-dd2d-86a37a9d0c9e"
      },
      "source": [
        "plt.plot(train_losses, label='training loss')\n",
        "plt.plot(test_losses, label='validation loss')\n",
        "plt.title('Loss at the end of each epoch')\n",
        "plt.legend();"
      ],
      "execution_count": 19,
      "outputs": [
        {
          "output_type": "display_data",
          "data": {
            "image/png": "[encoded data removed]",
            "text/plain": [
              "<Figure size 432x288 with 1 Axes>"
            ]
          },
          "metadata": {
            "tags": [],
            "needs_background": "light"
          }
        }
      ]
    },
    {
      "cell_type": "markdown",
      "metadata": {
        "id": "RWbOYJcP3-mA"
      },
      "source": [
        "This is kind of a clumsy thing, but I wanted to see the letters and then below see the labels.   More time can be spent to clean this up"
      ]
    },
    {
      "cell_type": "code",
      "metadata": {
        "colab": {
          "base_uri": "https://localhost:8080/",
          "height": 1000
        },
        "id": "DBzOP1c9UlSo",
        "outputId": "5b41d922-ebfc-4caa-b20c-38af795e2fbb"
      },
      "source": [
        "for image_index in range(1,90): #choosing a image number\n",
        "\n",
        "  # Inverse normalize the image\n",
        "  im=test_data[image_index][0]\n",
        "  inv_normalize = transforms.Normalize(\n",
        "     mean=[-1],\n",
        "     std=[2]\n",
        "  )\n",
        "  im_inv = inv_normalize(im)\n",
        "  # Print the image\n",
        "  plt.figure(figsize=(12,4))\n",
        "  plt.subplot(6, 10, index)\n",
        "  plt.axis('off')\n",
        "  plt.imshow(im.numpy().squeeze())"
      ],
      "execution_count": 20,
      "outputs": [
        {
          "output_type": "display_data",
          "data": {
            "image/png": "[encoded data removed]",
            "text/plain": [
              "<Figure size 864x288 with 1 Axes>"
            ]
          },
          "metadata": {
            "tags": [],
            "needs_background": "light"
          }
        },
        {
          "output_type": "display_data",
          "data": {
            "image/png": "[encoded data removed]",
            "text/plain": [
              "<Figure size 864x288 with 1 Axes>"
            ]
          },
          "metadata": {
            "tags": [],
            "needs_background": "light"
          }
        },
        {
          "output_type": "display_data",
          "data": {
            "image/png": "[encoded data removed]",
            "text/plain": [
              "<Figure size 864x288 with 1 Axes>"
            ]
          },
          "metadata": {
            "tags": [],
            "needs_background": "light"
          }
        },
        {
          "output_type": "display_data",
          "data": {
            "image/png": "[encoded data removed]",
            "text/plain": [
              "<Figure size 864x288 with 1 Axes>"
            ]
          },
          "metadata": {
            "tags": [],
            "needs_background": "light"
          }
        },
        {
          "output_type": "display_data",
          "data": {
            "image/png": "[encoded data removed]",
            "text/plain": [
              "<Figure size 864x288 with 1 Axes>"
            ]
          },
          "metadata": {
            "tags": [],
            "needs_background": "light"
          }
        },
        {
          "output_type": "display_data",
          "data": {
            "image/png": "[encoded data removed]",
            "text/plain": [
              "<Figure size 864x288 with 1 Axes>"
            ]
          },
          "metadata": {
            "tags": [],
            "needs_background": "light"
          }
        },
        {
          "output_type": "display_data",
          "data": {
            "image/png": "[encoded data removed]",
            "text/plain": [
              "<Figure size 864x288 with 1 Axes>"
            ]
          },
          "metadata": {
            "tags": [],
            "needs_background": "light"
          }
        },
        {
          "output_type": "display_data",
          "data": {
            "image/png": "[encoded data removed]",
            "text/plain": [
              "<Figure size 864x288 with 1 Axes>"
            ]
          },
          "metadata": {
            "tags": [],
            "needs_background": "light"
          }
        },
        {
          "output_type": "display_data",
          "data": {
            "image/png": "[encoded data removed]",
            "text/plain": [
              "<Figure size 864x288 with 1 Axes>"
            ]
          },
          "metadata": {
            "tags": [],
            "needs_background": "light"
          }
        },
        {
          "output_type": "display_data",
          "data": {
            "image/png": "[encoded data removed]",
            "text/plain": [
              "<Figure size 864x288 with 1 Axes>"
            ]
          },
          "metadata": {
            "tags": [],
            "needs_background": "light"
          }
        },
        {
          "output_type": "display_data",
          "data": {
            "image/png": "[encoded data removed]",
            "text/plain": [
              "<Figure size 864x288 with 1 Axes>"
            ]
          },
          "metadata": {
            "tags": [],
            "needs_background": "light"
          }
        },
        {
          "output_type": "display_data",
          "data": {
            "image/png": "[encoded data removed]",
            "text/plain": [
              "<Figure size 864x288 with 1 Axes>"
            ]
          },
          "metadata": {
            "tags": [],
            "needs_background": "light"
          }
        },
        {
          "output_type": "display_data",
          "data": {
            "image/png": "[encoded data removed]",
            "text/plain": [
              "<Figure size 864x288 with 1 Axes>"
            ]
          },
          "metadata": {
            "tags": [],
            "needs_background": "light"
          }
        },
        {
          "output_type": "display_data",
          "data": {
            "image/png": "[encoded data removed]",
            "text/plain": [
              "<Figure size 864x288 with 1 Axes>"
            ]
          },
          "metadata": {
            "tags": [],
            "needs_background": "light"
          }
        },
        {
          "output_type": "display_data",
          "data": {
            "image/png": "[encoded data removed]",
            "text/plain": [
              "<Figure size 864x288 with 1 Axes>"
            ]
          },
          "metadata": {
            "tags": [],
            "needs_background": "light"
          }
        },
        {
          "output_type": "display_data",
          "data": {
            "image/png": "[encoded data removed]",
            "text/plain": [
              "<Figure size 864x288 with 1 Axes>"
            ]
          },
          "metadata": {
            "tags": [],
            "needs_background": "light"
          }
        },
        {
          "output_type": "display_data",
          "data": {
            "image/png": "[encoded data removed]",
            "text/plain": [
              "<Figure size 864x288 with 1 Axes>"
            ]
          },
          "metadata": {
            "tags": [],
            "needs_background": "light"
          }
        },
        {
          "output_type": "display_data",
          "data": {
            "image/png": "[encoded data removed]",
            "text/plain": [
              "<Figure size 864x288 with 1 Axes>"
            ]
          },
          "metadata": {
            "tags": [],
            "needs_background": "light"
          }
        },
        {
          "output_type": "display_data",
          "data": {
            "image/png": "[encoded data removed]",
            "text/plain": [
              "<Figure size 864x288 with 1 Axes>"
            ]
          },
          "metadata": {
            "tags": [],
            "needs_background": "light"
          }
        },
        {
          "output_type": "display_data",
          "data": {
            "image/png": "[encoded data removed]",
            "text/plain": [
              "<Figure size 864x288 with 1 Axes>"
            ]
          },
          "metadata": {
            "tags": [],
            "needs_background": "light"
          }
        },
        {
          "output_type": "display_data",
          "data": {
            "image/png": "[encoded data removed]",
            "text/plain": [
              "<Figure size 864x288 with 1 Axes>"
            ]
          },
          "metadata": {
            "tags": [],
            "needs_background": "light"
          }
        },
        {
          "output_type": "display_data",
          "data": {
            "image/png": "[encoded data removed]",
            "text/plain": [
              "<Figure size 864x288 with 1 Axes>"
            ]
          },
          "metadata": {
            "tags": [],
            "needs_background": "light"
          }
        },
        {
          "output_type": "display_data",
          "data": {
            "image/png": "[encoded data removed]",
            "text/plain": [
              "<Figure size 864x288 with 1 Axes>"
            ]
          },
          "metadata": {
            "tags": [],
            "needs_background": "light"
          }
        },
        {
          "output_type": "display_data",
          "data": {
            "image/png": "[encoded data removed]",
            "text/plain": [
              "<Figure size 864x288 with 1 Axes>"
            ]
          },
          "metadata": {
            "tags": [],
            "needs_background": "light"
          }
        },
        {
          "output_type": "display_data",
          "data": {
            "image/png": "[encoded data removed]",
            "text/plain": [
              "<Figure size 864x288 with 1 Axes>"
            ]
          },
          "metadata": {
            "tags": [],
            "needs_background": "light"
          }
        },
        {
          "output_type": "display_data",
          "data": {
            "image/png": "[encoded data removed]",
            "text/plain": [
              "<Figure size 864x288 with 1 Axes>"
            ]
          },
          "metadata": {
            "tags": [],
            "needs_background": "light"
          }
        },
        {
          "output_type": "display_data",
          "data": {
            "image/png": "[encoded data removed]",
            "text/plain": [
              "<Figure size 864x288 with 1 Axes>"
            ]
          },
          "metadata": {
            "tags": [],
            "needs_background": "light"
          }
        },
        {
          "output_type": "display_data",
          "data": {
            "image/png": "[encoded data removed]",
            "text/plain": [
              "<Figure size 864x288 with 1 Axes>"
            ]
          },
          "metadata": {
            "tags": [],
            "needs_background": "light"
          }
        },
        {
          "output_type": "display_data",
          "data": {
            "image/png": "[encoded data removed]",
            "text/plain": [
              "<Figure size 864x288 with 1 Axes>"
            ]
          },
          "metadata": {
            "tags": [],
            "needs_background": "light"
          }
        },
        {
          "output_type": "display_data",
          "data": {
            "image/png": "[encoded data removed]",
            "text/plain": [
              "<Figure size 864x288 with 1 Axes>"
            ]
          },
          "metadata": {
            "tags": [],
            "needs_background": "light"
          }
        },
        {
          "output_type": "display_data",
          "data": {
            "image/png": "[encoded data removed]",
            "text/plain": [
              "<Figure size 864x288 with 1 Axes>"
            ]
          },
          "metadata": {
            "tags": [],
            "needs_background": "light"
          }
        },
        {
          "output_type": "display_data",
          "data": {
            "image/png": "[encoded data removed]",
            "text/plain": [
              "<Figure size 864x288 with 1 Axes>"
            ]
          },
          "metadata": {
            "tags": [],
            "needs_background": "light"
          }
        },
        {
          "output_type": "display_data",
          "data": {
            "image/png": "[encoded data removed]",
            "text/plain": [
              "<Figure size 864x288 with 1 Axes>"
            ]
          },
          "metadata": {
            "tags": [],
            "needs_background": "light"
          }
        },
        {
          "output_type": "display_data",
          "data": {
            "image/png": "[encoded data removed]",
            "text/plain": [
              "<Figure size 864x288 with 1 Axes>"
            ]
          },
          "metadata": {
            "tags": [],
            "needs_background": "light"
          }
        },
        {
          "output_type": "display_data",
          "data": {
            "image/png": "[encoded data removed]",
            "text/plain": [
              "<Figure size 864x288 with 1 Axes>"
            ]
          },
          "metadata": {
            "tags": [],
            "needs_background": "light"
          }
        },
        {
          "output_type": "display_data",
          "data": {
            "image/png": "[encoded data removed]",
            "text/plain": [
              "<Figure size 864x288 with 1 Axes>"
            ]
          },
          "metadata": {
            "tags": [],
            "needs_background": "light"
          }
        },
        {
          "output_type": "display_data",
          "data": {
            "image/png": "[encoded data removed]",
            "text/plain": [
              "<Figure size 864x288 with 1 Axes>"
            ]
          },
          "metadata": {
            "tags": [],
            "needs_background": "light"
          }
        },
        {
          "output_type": "display_data",
          "data": {
            "image/png": "[encoded data removed]",
            "text/plain": [
              "<Figure size 864x288 with 1 Axes>"
            ]
          },
          "metadata": {
            "tags": [],
            "needs_background": "light"
          }
        },
        {
          "output_type": "display_data",
          "data": {
            "image/png": "[encoded data removed]",
            "text/plain": [
              "<Figure size 864x288 with 1 Axes>"
            ]
          },
          "metadata": {
            "tags": [],
            "needs_background": "light"
          }
        },
        {
          "output_type": "display_data",
          "data": {
            "image/png": "[encoded data removed]",
            "text/plain": [
              "<Figure size 864x288 with 1 Axes>"
            ]
          },
          "metadata": {
            "tags": [],
            "needs_background": "light"
          }
        },
        {
          "output_type": "display_data",
          "data": {
            "image/png": "[encoded data removed]",
            "text/plain": [
              "<Figure size 864x288 with 1 Axes>"
            ]
          },
          "metadata": {
            "tags": [],
            "needs_background": "light"
          }
        },
        {
          "output_type": "display_data",
          "data": {
            "image/png": "[encoded data removed]",
            "text/plain": [
              "<Figure size 864x288 with 1 Axes>"
            ]
          },
          "metadata": {
            "tags": [],
            "needs_background": "light"
          }
        },
        {
          "output_type": "display_data",
          "data": {
            "image/png": "[encoded data removed]",
            "text/plain": [
              "<Figure size 864x288 with 1 Axes>"
            ]
          },
          "metadata": {
            "tags": [],
            "needs_background": "light"
          }
        },
        {
          "output_type": "display_data",
          "data": {
            "image/png": "[encoded data removed]",
            "text/plain": [
              "<Figure size 864x288 with 1 Axes>"
            ]
          },
          "metadata": {
            "tags": [],
            "needs_background": "light"
          }
        },
        {
          "output_type": "display_data",
          "data": {
            "image/png": "[encoded data removed]",
            "text/plain": [
              "<Figure size 864x288 with 1 Axes>"
            ]
          },
          "metadata": {
            "tags": [],
            "needs_background": "light"
          }
        },
        {
          "output_type": "display_data",
          "data": {
            "image/png": "[encoded data removed]",
            "text/plain": [
              "<Figure size 864x288 with 1 Axes>"
            ]
          },
          "metadata": {
            "tags": [],
            "needs_background": "light"
          }
        },
        {
          "output_type": "display_data",
          "data": {
            "image/png": "[encoded data removed]",
            "text/plain": [
              "<Figure size 864x288 with 1 Axes>"
            ]
          },
          "metadata": {
            "tags": [],
            "needs_background": "light"
          }
        },
        {
          "output_type": "display_data",
          "data": {
            "image/png": "[encoded data removed]",
            "text/plain": [
              "<Figure size 864x288 with 1 Axes>"
            ]
          },
          "metadata": {
            "tags": [],
            "needs_background": "light"
          }
        },
        {
          "output_type": "display_data",
          "data": {
            "image/png": "[encoded data removed]",
            "text/plain": [
              "<Figure size 864x288 with 1 Axes>"
            ]
          },
          "metadata": {
            "tags": [],
            "needs_background": "light"
          }
        },
        {
          "output_type": "display_data",
          "data": {
            "image/png": "[encoded data removed]",
            "text/plain": [
              "<Figure size 864x288 with 1 Axes>"
            ]
          },
          "metadata": {
            "tags": [],
            "needs_background": "light"
          }
        },
        {
          "output_type": "display_data",
          "data": {
            "image/png": "[encoded data removed]",
            "text/plain": [
              "<Figure size 864x288 with 1 Axes>"
            ]
          },
          "metadata": {
            "tags": [],
            "needs_background": "light"
          }
        },
        {
          "output_type": "display_data",
          "data": {
            "image/png": "[encoded data removed]",
            "text/plain": [
              "<Figure size 864x288 with 1 Axes>"
            ]
          },
          "metadata": {
            "tags": [],
            "needs_background": "light"
          }
        },
        {
          "output_type": "display_data",
          "data": {
            "image/png": "[encoded data removed]",
            "text/plain": [
              "<Figure size 864x288 with 1 Axes>"
            ]
          },
          "metadata": {
            "tags": [],
            "needs_background": "light"
          }
        },
        {
          "output_type": "display_data",
          "data": {
            "image/png": "[encoded data removed]",
            "text/plain": [
              "<Figure size 864x288 with 1 Axes>"
            ]
          },
          "metadata": {
            "tags": [],
            "needs_background": "light"
          }
        },
        {
          "output_type": "display_data",
          "data": {
            "image/png": "[encoded data removed]",
            "text/plain": [
              "<Figure size 864x288 with 1 Axes>"
            ]
          },
          "metadata": {
            "tags": [],
            "needs_background": "light"
          }
        },
        {
          "output_type": "display_data",
          "data": {
            "image/png": "[encoded data removed]",
            "text/plain": [
              "<Figure size 864x288 with 1 Axes>"
            ]
          },
          "metadata": {
            "tags": [],
            "needs_background": "light"
          }
        },
        {
          "output_type": "display_data",
          "data": {
            "image/png": "[encoded data removed]",
            "text/plain": [
              "<Figure size 864x288 with 1 Axes>"
            ]
          },
          "metadata": {
            "tags": [],
            "needs_background": "light"
          }
        },
        {
          "output_type": "display_data",
          "data": {
            "image/png": "[encoded data removed]",
            "text/plain": [
              "<Figure size 864x288 with 1 Axes>"
            ]
          },
          "metadata": {
            "tags": [],
            "needs_background": "light"
          }
        },
        {
          "output_type": "display_data",
          "data": {
            "image/png": "[encoded data removed]",
            "text/plain": [
              "<Figure size 864x288 with 1 Axes>"
            ]
          },
          "metadata": {
            "tags": [],
            "needs_background": "light"
          }
        },
        {
          "output_type": "display_data",
          "data": {
            "image/png": "[encoded data removed]",
            "text/plain": [
              "<Figure size 864x288 with 1 Axes>"
            ]
          },
          "metadata": {
            "tags": [],
            "needs_background": "light"
          }
        },
        {
          "output_type": "display_data",
          "data": {
            "image/png": "[encoded data removed]",
            "text/plain": [
              "<Figure size 864x288 with 1 Axes>"
            ]
          },
          "metadata": {
            "tags": [],
            "needs_background": "light"
          }
        },
        {
          "output_type": "display_data",
          "data": {
            "image/png": "[encoded data removed]",
            "text/plain": [
              "<Figure size 864x288 with 1 Axes>"
            ]
          },
          "metadata": {
            "tags": [],
            "needs_background": "light"
          }
        },
        {
          "output_type": "display_data",
          "data": {
            "image/png": "[encoded data removed]",
            "text/plain": [
              "<Figure size 864x288 with 1 Axes>"
            ]
          },
          "metadata": {
            "tags": [],
            "needs_background": "light"
          }
        },
        {
          "output_type": "display_data",
          "data": {
            "image/png": "[encoded data removed]",
            "text/plain": [
              "<Figure size 864x288 with 1 Axes>"
            ]
          },
          "metadata": {
            "tags": [],
            "needs_background": "light"
          }
        },
        {
          "output_type": "display_data",
          "data": {
            "image/png": "[encoded data removed]",
            "text/plain": [
              "<Figure size 864x288 with 1 Axes>"
            ]
          },
          "metadata": {
            "tags": [],
            "needs_background": "light"
          }
        },
        {
          "output_type": "display_data",
          "data": {
            "image/png": "[encoded data removed]",
            "text/plain": [
              "<Figure size 864x288 with 1 Axes>"
            ]
          },
          "metadata": {
            "tags": [],
            "needs_background": "light"
          }
        },
        {
          "output_type": "display_data",
          "data": {
            "image/png": "[encoded data removed]",
            "text/plain": [
              "<Figure size 864x288 with 1 Axes>"
            ]
          },
          "metadata": {
            "tags": [],
            "needs_background": "light"
          }
        },
        {
          "output_type": "display_data",
          "data": {
            "image/png": "[encoded data removed]",
            "text/plain": [
              "<Figure size 864x288 with 1 Axes>"
            ]
          },
          "metadata": {
            "tags": [],
            "needs_background": "light"
          }
        },
        {
          "output_type": "display_data",
          "data": {
            "image/png": "[encoded data removed]",
            "text/plain": [
              "<Figure size 864x288 with 1 Axes>"
            ]
          },
          "metadata": {
            "tags": [],
            "needs_background": "light"
          }
        },
        {
          "output_type": "display_data",
          "data": {
            "image/png": "[encoded data removed]",
            "text/plain": [
              "<Figure size 864x288 with 1 Axes>"
            ]
          },
          "metadata": {
            "tags": [],
            "needs_background": "light"
          }
        },
        {
          "output_type": "display_data",
          "data": {
            "image/png": "[encoded data removed]",
            "text/plain": [
              "<Figure size 864x288 with 1 Axes>"
            ]
          },
          "metadata": {
            "tags": [],
            "needs_background": "light"
          }
        },
        {
          "output_type": "display_data",
          "data": {
            "image/png": "[encoded data removed]",
            "text/plain": [
              "<Figure size 864x288 with 1 Axes>"
            ]
          },
          "metadata": {
            "tags": [],
            "needs_background": "light"
          }
        },
        {
          "output_type": "display_data",
          "data": {
            "image/png": "[encoded data removed]",
            "text/plain": [
              "<Figure size 864x288 with 1 Axes>"
            ]
          },
          "metadata": {
            "tags": [],
            "needs_background": "light"
          }
        },
        {
          "output_type": "display_data",
          "data": {
            "image/png": "[encoded data removed]",
            "text/plain": [
              "<Figure size 864x288 with 1 Axes>"
            ]
          },
          "metadata": {
            "tags": [],
            "needs_background": "light"
          }
        },
        {
          "output_type": "display_data",
          "data": {
            "image/png": "[encoded data removed]",
            "text/plain": [
              "<Figure size 864x288 with 1 Axes>"
            ]
          },
          "metadata": {
            "tags": [],
            "needs_background": "light"
          }
        },
        {
          "output_type": "display_data",
          "data": {
            "image/png": "[encoded data removed]",
            "text/plain": [
              "<Figure size 864x288 with 1 Axes>"
            ]
          },
          "metadata": {
            "tags": [],
            "needs_background": "light"
          }
        },
        {
          "output_type": "display_data",
          "data": {
            "image/png": "[encoded data removed]",
            "text/plain": [
              "<Figure size 864x288 with 1 Axes>"
            ]
          },
          "metadata": {
            "tags": [],
            "needs_background": "light"
          }
        },
        {
          "output_type": "display_data",
          "data": {
            "image/png": "[encoded data removed]",
            "text/plain": [
              "<Figure size 864x288 with 1 Axes>"
            ]
          },
          "metadata": {
            "tags": [],
            "needs_background": "light"
          }
        },
        {
          "output_type": "display_data",
          "data": {
            "image/png": "[encoded data removed]",
            "text/plain": [
              "<Figure size 864x288 with 1 Axes>"
            ]
          },
          "metadata": {
            "tags": [],
            "needs_background": "light"
          }
        },
        {
          "output_type": "display_data",
          "data": {
            "image/png": "[encoded data removed]",
            "text/plain": [
              "<Figure size 864x288 with 1 Axes>"
            ]
          },
          "metadata": {
            "tags": [],
            "needs_background": "light"
          }
        },
        {
          "output_type": "display_data",
          "data": {
            "image/png": "[encoded data removed]",
            "text/plain": [
              "<Figure size 864x288 with 1 Axes>"
            ]
          },
          "metadata": {
            "tags": [],
            "needs_background": "light"
          }
        },
        {
          "output_type": "display_data",
          "data": {
            "image/png": "[encoded data removed]",
            "text/plain": [
              "<Figure size 864x288 with 1 Axes>"
            ]
          },
          "metadata": {
            "tags": [],
            "needs_background": "light"
          }
        },
        {
          "output_type": "display_data",
          "data": {
            "image/png": "[encoded data removed]",
            "text/plain": [
              "<Figure size 864x288 with 1 Axes>"
            ]
          },
          "metadata": {
            "tags": [],
            "needs_background": "light"
          }
        },
        {
          "output_type": "display_data",
          "data": {
            "image/png": "[encoded data removed]",
            "text/plain": [
              "<Figure size 864x288 with 1 Axes>"
            ]
          },
          "metadata": {
            "tags": [],
            "needs_background": "light"
          }
        },
        {
          "output_type": "display_data",
          "data": {
            "image/png": "[encoded data removed]",
            "text/plain": [
              "<Figure size 864x288 with 1 Axes>"
            ]
          },
          "metadata": {
            "tags": [],
            "needs_background": "light"
          }
        },
        {
          "output_type": "display_data",
          "data": {
            "image/png": "[encoded data removed]",
            "text/plain": [
              "<Figure size 864x288 with 1 Axes>"
            ]
          },
          "metadata": {
            "tags": [],
            "needs_background": "light"
          }
        },
        {
          "output_type": "display_data",
          "data": {
            "image/png": "[encoded data removed]",
            "text/plain": [
              "<Figure size 864x288 with 1 Axes>"
            ]
          },
          "metadata": {
            "tags": [],
            "needs_background": "light"
          }
        },
        {
          "output_type": "display_data",
          "data": {
            "image/png": "[encoded data removed]",
            "text/plain": [
              "<Figure size 864x288 with 1 Axes>"
            ]
          },
          "metadata": {
            "tags": [],
            "needs_background": "light"
          }
        },
        {
          "output_type": "display_data",
          "data": {
            "image/png": "[encoded data removed]",
            "text/plain": [
              "<Figure size 864x288 with 1 Axes>"
            ]
          },
          "metadata": {
            "tags": [],
            "needs_background": "light"
          }
        }
      ]
    },
    {
      "cell_type": "code",
      "metadata": {
        "colab": {
          "base_uri": "https://localhost:8080/"
        },
        "id": "3smlWOrdUytV",
        "outputId": "6f79264f-ddaf-420d-b8ac-47bbf6500040"
      },
      "source": [
        "# CNN Model Prediction:\n",
        "# Below our model predicted incorrectly\n",
        "CNNmodel.eval()\n",
        "for x in range(1,90):\n",
        "  with torch.no_grad():\n",
        "      new_pred = CNNmodel(test_data[x][0].view(1,1,28,28)).argmax()  #1 image, 1 color channels, 28x28 pixels\n",
        "  print(new_pred.item(),class_names[new_pred.item()])"
      ],
      "execution_count": 21,
      "outputs": [
        {
          "output_type": "stream",
          "text": [
            "2 Cletters\n",
            "0 Aletters\n",
            "0 Aletters\n",
            "0 Aletters\n",
            "0 Aletters\n",
            "0 Aletters\n",
            "0 Aletters\n",
            "0 Aletters\n",
            "0 Aletters\n",
            "0 Aletters\n",
            "0 Aletters\n",
            "3 Dletters\n",
            "0 Aletters\n",
            "0 Aletters\n",
            "3 Dletters\n",
            "0 Aletters\n",
            "0 Aletters\n",
            "0 Aletters\n",
            "0 Aletters\n",
            "1 Bletters\n",
            "1 Bletters\n",
            "1 Bletters\n",
            "1 Bletters\n",
            "1 Bletters\n",
            "1 Bletters\n",
            "3 Dletters\n",
            "3 Dletters\n",
            "1 Bletters\n",
            "1 Bletters\n",
            "1 Bletters\n",
            "1 Bletters\n",
            "1 Bletters\n",
            "1 Bletters\n",
            "1 Bletters\n",
            "1 Bletters\n",
            "1 Bletters\n",
            "3 Dletters\n",
            "1 Bletters\n",
            "3 Dletters\n",
            "2 Cletters\n",
            "2 Cletters\n",
            "2 Cletters\n",
            "2 Cletters\n",
            "2 Cletters\n",
            "2 Cletters\n",
            "3 Dletters\n",
            "0 Aletters\n",
            "1 Bletters\n",
            "0 Aletters\n",
            "2 Cletters\n",
            "2 Cletters\n",
            "3 Dletters\n",
            "2 Cletters\n",
            "2 Cletters\n",
            "2 Cletters\n",
            "2 Cletters\n",
            "2 Cletters\n",
            "2 Cletters\n",
            "2 Cletters\n",
            "3 Dletters\n",
            "3 Dletters\n",
            "3 Dletters\n",
            "2 Cletters\n",
            "3 Dletters\n",
            "3 Dletters\n",
            "1 Bletters\n",
            "3 Dletters\n",
            "3 Dletters\n",
            "3 Dletters\n",
            "3 Dletters\n",
            "3 Dletters\n",
            "3 Dletters\n",
            "3 Dletters\n",
            "3 Dletters\n",
            "3 Dletters\n",
            "3 Dletters\n",
            "3 Dletters\n",
            "3 Dletters\n",
            "3 Dletters\n",
            "3 Dletters\n",
            "2 Cletters\n",
            "4 Eletters\n",
            "1 Bletters\n",
            "4 Eletters\n",
            "4 Eletters\n",
            "4 Eletters\n",
            "2 Cletters\n",
            "4 Eletters\n",
            "4 Eletters\n"
          ],
          "name": "stdout"
        }
      ]
    },
    {
      "cell_type": "markdown",
      "metadata": {
        "id": "9rDJk1qG4GyL"
      },
      "source": [
        "This is my attempt at the transfer learning section.  I'm going to replace the last layer, the \"fc\" layer with new parameters to allow for letters \"F\" \"G\" \"H\"\n",
        "Then I will load the new training and test data and run the model\n",
        "\n",
        "I think I was supposed to be able to use less training data, so I probably will need to re-do some of this, but for now, at least its working a bit."
      ]
    },
    {
      "cell_type": "code",
      "metadata": {
        "colab": {
          "base_uri": "https://localhost:8080/"
        },
        "id": "rGN8RGS-JAzl",
        "outputId": "60d7cb4e-2408-4ee8-9391-df186bc2bac5"
      },
      "source": [
        "CNNmodel.named_modules\n",
        "#Dense and fully connected are two names for the same thing."
      ],
      "execution_count": 55,
      "outputs": [
        {
          "output_type": "execute_result",
          "data": {
            "text/plain": [
              "<bound method Module.named_modules of ConvolutionalNetwork(\n",
              "  (cnn1): Conv2d(1, 32, kernel_size=(3, 3), stride=(1, 1))\n",
              "  (relu1): ReLU()\n",
              "  (maxpool1): MaxPool2d(kernel_size=2, stride=2, padding=0, dilation=1, ceil_mode=False)\n",
              "  (cnn2): Conv2d(32, 64, kernel_size=(3, 3), stride=(1, 1))\n",
              "  (relu2): ReLU()\n",
              "  (maxpool2): MaxPool2d(kernel_size=2, stride=2, padding=0, dilation=1, ceil_mode=False)\n",
              "  (dropout): Dropout(p=0.05, inplace=False)\n",
              "  (fc1): Linear(in_features=1600, out_features=10, bias=True)\n",
              ")>"
            ]
          },
          "metadata": {
            "tags": []
          },
          "execution_count": 55
        }
      ]
    },
    {
      "cell_type": "code",
      "metadata": {
        "id": "pjEX88HTMhyD",
        "colab": {
          "base_uri": "https://localhost:8080/"
        },
        "outputId": "a637943c-e79e-4e3a-903c-1dbde43e9e33"
      },
      "source": [
        "root = '/content/drive/My Drive/MLIIProject4'\n",
        "\n",
        "train_data = datasets.ImageFolder(os.path.join(root, 'TLtrain'), transform=train_transform) #call imagefolder off of datasets\n",
        "test_data = datasets.ImageFolder(os.path.join(root, 'TLtest'), transform=test_transform)\n",
        "\n",
        "torch.manual_seed(42)\n",
        "train_loader = DataLoader(train_data, batch_size=10, shuffle=True)\n",
        "test_loader = DataLoader(test_data, batch_size=10, shuffle=True)\n",
        "\n",
        "class_names = train_data.classes\n",
        "\n",
        "print(class_names)\n",
        "print(f'Training images available: {len(train_data)}')\n",
        "print(f'Testing images available:  {len(test_data)}')"
      ],
      "execution_count": 56,
      "outputs": [
        {
          "output_type": "stream",
          "text": [
            "['Fletters', 'Gletters', 'Hletters']\n",
            "Training images available: 150\n",
            "Testing images available:  60\n"
          ],
          "name": "stdout"
        }
      ]
    },
    {
      "cell_type": "code",
      "metadata": {
        "colab": {
          "base_uri": "https://localhost:8080/",
          "height": 155
        },
        "id": "cWDgMPsNtmrH",
        "outputId": "a2b54e8c-bb6a-476a-bc07-0900db8d5032"
      },
      "source": [
        "# Print the labels\n",
        "for images,labels in train_loader: \n",
        "  break\n",
        "\n",
        "print('Label:', labels.numpy())\n",
        "print('Class:', *np.array([class_names[i] for i in labels]))\n",
        "\n",
        "im = make_grid(images, nrow=5)  # the default nrow is 8\n",
        "\n",
        "# Inverse normalize the images\n",
        "inv_normalize = transforms.Normalize(\n",
        "    mean=[-1],\n",
        "    std=[2]\n",
        ")\n",
        "im_inv = inv_normalize(im)\n",
        "\n",
        "# Print the images\n",
        "plt.figure(figsize=(3,4))\n",
        "plt.imshow(np.transpose(im_inv.numpy(), (1, 2, 0)));"
      ],
      "execution_count": 57,
      "outputs": [
        {
          "output_type": "stream",
          "text": [
            "Label: [2 1 2 1 1 0 2 1 1 1]\n",
            "Class: Hletters Gletters Hletters Gletters Gletters Fletters Hletters Gletters Gletters Gletters\n"
          ],
          "name": "stdout"
        },
        {
          "output_type": "display_data",
          "data": {
            "image/png": "[encoded data removed]",
            "text/plain": [
              "<Figure size 216x288 with 1 Axes>"
            ]
          },
          "metadata": {
            "tags": [],
            "needs_background": "light"
          }
        }
      ]
    },
    {
      "cell_type": "code",
      "metadata": {
        "colab": {
          "base_uri": "https://localhost:8080/"
        },
        "id": "Vyh4PqwV0lxy",
        "outputId": "9577fdc0-9b94-4921-b7ca-03baf7fd318d"
      },
      "source": [
        "#Create a new output layer\n",
        "\n",
        "CNNmodel.fc1 = nn.Linear(64 * 3 *3, 10)\n",
        "\n",
        "torch.manual_seed(10) #setting the seed\n",
        "CNNmodel = ConvolutionalNetwork()\n",
        "criterion = nn.CrossEntropyLoss()\n",
        "optimizer = torch.optim.Adam(CNNmodel.parameters(), lr=0.001)  #adam optimizer \n",
        "CNNmodel"
      ],
      "execution_count": 58,
      "outputs": [
        {
          "output_type": "execute_result",
          "data": {
            "text/plain": [
              "ConvolutionalNetwork(\n",
              "  (cnn1): Conv2d(1, 32, kernel_size=(3, 3), stride=(1, 1))\n",
              "  (relu1): ReLU()\n",
              "  (maxpool1): MaxPool2d(kernel_size=2, stride=2, padding=0, dilation=1, ceil_mode=False)\n",
              "  (cnn2): Conv2d(32, 64, kernel_size=(3, 3), stride=(1, 1))\n",
              "  (relu2): ReLU()\n",
              "  (maxpool2): MaxPool2d(kernel_size=2, stride=2, padding=0, dilation=1, ceil_mode=False)\n",
              "  (dropout): Dropout(p=0.05, inplace=False)\n",
              "  (fc1): Linear(in_features=1600, out_features=10, bias=True)\n",
              ")"
            ]
          },
          "metadata": {
            "tags": []
          },
          "execution_count": 58
        }
      ]
    },
    {
      "cell_type": "code",
      "metadata": {
        "colab": {
          "base_uri": "https://localhost:8080/"
        },
        "id": "DMsMlVGJuKil",
        "outputId": "cc99696c-8ad5-494b-f89e-83d4c4a9fb11"
      },
      "source": [
        "# Fit the model and check validation data\n",
        "import time\n",
        "start_time = time.time()\n",
        "\n",
        "# tried 20 - 400 epochs   Didn't seem to help over 20\n",
        "\n",
        "epochs = 50\n",
        "\n",
        "train_losses = []\n",
        "test_losses = []\n",
        "train_correct = []\n",
        "test_correct = []\n",
        "\n",
        "\n",
        "for i in range(epochs):  #this keep track of how many we got correct during training\n",
        "    trn_corr = 0  #training set\n",
        "    tst_corr = 0  #test set\n",
        "    \n",
        "# Run the training batches\n",
        "    for b, (X_train, y_train) in enumerate(train_loader):   \n",
        "            \n",
        "        b+=1\n",
        "        \n",
        "        #predicted image\n",
        "        # Apply the model\n",
        "       \n",
        "        y_pred = CNNmodel(X_train)  \n",
        "        #print(y_pred,y_train)\n",
        "        loss = criterion(y_pred, y_train)\n",
        " \n",
        "        # Tally the number of correct predictions\n",
        "        predicted = torch.max(y_pred.data, 1)[1]\n",
        "        batch_corr = (predicted == y_train).sum()\n",
        "        trn_corr += batch_corr\n",
        "        \n",
        "        \n",
        "         # Update parameters\n",
        "        optimizer.zero_grad()\n",
        "        loss.backward()\n",
        "        optimizer.step()\n",
        "        \n",
        "        \n",
        "        #We can get a print out for every 20 batches\n",
        "          # Print interim results\n",
        "       # if b%20 == 0:\n",
        "       #   print(f'Epoch: {i} LOSS:  {loss.item()}')\n",
        "            \n",
        "    train_losses.append(loss)\n",
        "    train_correct.append(trn_corr)\n",
        "\n",
        "    # TEST SET\n",
        "    # Run the testing batches\n",
        "    correct = 0\n",
        "    total = 0\n",
        "    with torch.no_grad():\n",
        "        for b, (X_test, y_test) in enumerate(test_loader):\n",
        "                            \n",
        "                # Apply the model\n",
        "                # PASS in predicted value\n",
        "            y_val = CNNmodel(X_test)\n",
        "                        \n",
        "                # See if we predicted correctly\n",
        "                 # Tally the number of correct predictions\n",
        "            predicted = torch.max(y_val.data, 1)[1] \n",
        "            batch_corr = (predicted==y_test).sum()\n",
        "            tst_corr = tst_corr + batch_corr\n",
        "               # Total number of labels\n",
        " \n",
        "            total=len(y_test)\n",
        "                    \n",
        "            accuracy = 100 * batch_corr / float(total)\n",
        "            if b%20 == 0:\n",
        "               print(f'Epoch: {i} ACCURACY:  {accuracy}')\n",
        " \n",
        "    loss = criterion(y_val, y_test)\n",
        "    test_losses.append(loss)\n",
        "    test_correct.append(tst_corr)\n",
        "            \n",
        "    \n",
        "total_time = time.time() - start_time\n",
        "print(f'Total Time: {total_time/60} minutes')"
      ],
      "execution_count": 59,
      "outputs": [
        {
          "output_type": "stream",
          "text": [
            "Epoch: 0 ACCURACY:  40.0\n",
            "Epoch: 1 ACCURACY:  20.0\n",
            "Epoch: 2 ACCURACY:  40.0\n",
            "Epoch: 3 ACCURACY:  20.0\n",
            "Epoch: 4 ACCURACY:  50.0\n",
            "Epoch: 5 ACCURACY:  50.0\n",
            "Epoch: 6 ACCURACY:  70.0\n",
            "Epoch: 7 ACCURACY:  50.0\n",
            "Epoch: 8 ACCURACY:  70.0\n",
            "Epoch: 9 ACCURACY:  90.0\n",
            "Epoch: 10 ACCURACY:  80.0\n",
            "Epoch: 11 ACCURACY:  60.0\n",
            "Epoch: 12 ACCURACY:  90.0\n",
            "Epoch: 13 ACCURACY:  80.0\n",
            "Epoch: 14 ACCURACY:  100.0\n",
            "Epoch: 15 ACCURACY:  70.0\n",
            "Epoch: 16 ACCURACY:  80.0\n",
            "Epoch: 17 ACCURACY:  100.0\n",
            "Epoch: 18 ACCURACY:  90.0\n",
            "Epoch: 19 ACCURACY:  100.0\n",
            "Epoch: 20 ACCURACY:  90.0\n",
            "Epoch: 21 ACCURACY:  90.0\n",
            "Epoch: 22 ACCURACY:  100.0\n",
            "Epoch: 23 ACCURACY:  90.0\n",
            "Epoch: 24 ACCURACY:  90.0\n",
            "Epoch: 25 ACCURACY:  100.0\n",
            "Epoch: 26 ACCURACY:  80.0\n",
            "Epoch: 27 ACCURACY:  100.0\n",
            "Epoch: 28 ACCURACY:  100.0\n",
            "Epoch: 29 ACCURACY:  90.0\n",
            "Epoch: 30 ACCURACY:  90.0\n",
            "Epoch: 31 ACCURACY:  100.0\n",
            "Epoch: 32 ACCURACY:  90.0\n",
            "Epoch: 33 ACCURACY:  100.0\n",
            "Epoch: 34 ACCURACY:  90.0\n",
            "Epoch: 35 ACCURACY:  100.0\n",
            "Epoch: 36 ACCURACY:  90.0\n",
            "Epoch: 37 ACCURACY:  90.0\n",
            "Epoch: 38 ACCURACY:  90.0\n",
            "Epoch: 39 ACCURACY:  90.0\n",
            "Epoch: 40 ACCURACY:  100.0\n",
            "Epoch: 41 ACCURACY:  100.0\n",
            "Epoch: 42 ACCURACY:  80.0\n",
            "Epoch: 43 ACCURACY:  100.0\n",
            "Epoch: 44 ACCURACY:  90.0\n",
            "Epoch: 45 ACCURACY:  100.0\n",
            "Epoch: 46 ACCURACY:  90.0\n",
            "Epoch: 47 ACCURACY:  100.0\n",
            "Epoch: 48 ACCURACY:  100.0\n",
            "Epoch: 49 ACCURACY:  100.0\n",
            "Total Time: 0.6899533907572428 minutes\n"
          ],
          "name": "stdout"
        }
      ]
    },
    {
      "cell_type": "code",
      "metadata": {
        "colab": {
          "base_uri": "https://localhost:8080/"
        },
        "id": "_rOOVISm3I_F",
        "outputId": "54624d88-2888-41d0-e26b-f429d73e88aa"
      },
      "source": [
        "# To see how many we got correct\n",
        "print(test_correct)\n",
        "print(f'Test accuracy: {test_correct[-1].item()*60/60:.2f}%')"
      ],
      "execution_count": 63,
      "outputs": [
        {
          "output_type": "stream",
          "text": [
            "[tensor(20), tensor(20), tensor(25), tensor(21), tensor(40), tensor(45), tensor(37), tensor(46), tensor(44), tensor(47), tensor(48), tensor(48), tensor(49), tensor(51), tensor(51), tensor(52), tensor(53), tensor(54), tensor(53), tensor(53), tensor(53), tensor(53), tensor(55), tensor(54), tensor(54), tensor(54), tensor(54), tensor(54), tensor(55), tensor(55), tensor(55), tensor(55), tensor(55), tensor(55), tensor(55), tensor(56), tensor(55), tensor(56), tensor(56), tensor(55), tensor(55), tensor(55), tensor(56), tensor(55), tensor(55), tensor(55), tensor(55), tensor(55), tensor(55), tensor(55)]\n",
            "Test accuracy: 55.00%\n"
          ],
          "name": "stdout"
        }
      ]
    },
    {
      "cell_type": "code",
      "metadata": {
        "colab": {
          "base_uri": "https://localhost:8080/",
          "height": 1000
        },
        "id": "j-c_dWIj3LSo",
        "outputId": "ee387680-5c6a-4d45-9ad7-0208294b93d2"
      },
      "source": [
        "for image_index in range(1,60): #choosing a image number\n",
        "\n",
        "  # Inverse normalize the image\n",
        "  im=test_data[image_index][0]\n",
        "  inv_normalize = transforms.Normalize(\n",
        "     mean=[-1],\n",
        "     std=[2]\n",
        "  )\n",
        "  im_inv = inv_normalize(im)\n",
        "  # Print the image\n",
        "  plt.figure(figsize=(12,4))\n",
        "  plt.subplot(6, 10, index)\n",
        "  plt.axis('off')\n",
        "  plt.imshow(im.numpy().squeeze())"
      ],
      "execution_count": 61,
      "outputs": [
        {
          "output_type": "display_data",
          "data": {
            "image/png": "[encoded data removed]",
            "text/plain": [
              "<Figure size 864x288 with 1 Axes>"
            ]
          },
          "metadata": {
            "tags": [],
            "needs_background": "light"
          }
        },
        {
          "output_type": "display_data",
          "data": {
            "image/png": "[encoded data removed]",
            "text/plain": [
              "<Figure size 864x288 with 1 Axes>"
            ]
          },
          "metadata": {
            "tags": [],
            "needs_background": "light"
          }
        },
        {
          "output_type": "display_data",
          "data": {
            "image/png": "[encoded data removed]",
            "text/plain": [
              "<Figure size 864x288 with 1 Axes>"
            ]
          },
          "metadata": {
            "tags": [],
            "needs_background": "light"
          }
        },
        {
          "output_type": "display_data",
          "data": {
            "image/png": "[encoded data removed]",
            "text/plain": [
              "<Figure size 864x288 with 1 Axes>"
            ]
          },
          "metadata": {
            "tags": [],
            "needs_background": "light"
          }
        },
        {
          "output_type": "display_data",
          "data": {
            "image/png": "[encoded data removed]",
            "text/plain": [
              "<Figure size 864x288 with 1 Axes>"
            ]
          },
          "metadata": {
            "tags": [],
            "needs_background": "light"
          }
        },
        {
          "output_type": "display_data",
          "data": {
            "image/png": "[encoded data removed]",
            "text/plain": [
              "<Figure size 864x288 with 1 Axes>"
            ]
          },
          "metadata": {
            "tags": [],
            "needs_background": "light"
          }
        },
        {
          "output_type": "display_data",
          "data": {
            "image/png": "[encoded data removed]",
            "text/plain": [
              "<Figure size 864x288 with 1 Axes>"
            ]
          },
          "metadata": {
            "tags": [],
            "needs_background": "light"
          }
        },
        {
          "output_type": "display_data",
          "data": {
            "image/png": "[encoded data removed]",
            "text/plain": [
              "<Figure size 864x288 with 1 Axes>"
            ]
          },
          "metadata": {
            "tags": [],
            "needs_background": "light"
          }
        },
        {
          "output_type": "display_data",
          "data": {
            "image/png": "[encoded data removed]",
            "text/plain": [
              "<Figure size 864x288 with 1 Axes>"
            ]
          },
          "metadata": {
            "tags": [],
            "needs_background": "light"
          }
        },
        {
          "output_type": "display_data",
          "data": {
            "image/png": "[encoded data removed]",
            "text/plain": [
              "<Figure size 864x288 with 1 Axes>"
            ]
          },
          "metadata": {
            "tags": [],
            "needs_background": "light"
          }
        },
        {
          "output_type": "display_data",
          "data": {
            "image/png": "[encoded data removed]",
            "text/plain": [
              "<Figure size 864x288 with 1 Axes>"
            ]
          },
          "metadata": {
            "tags": [],
            "needs_background": "light"
          }
        },
        {
          "output_type": "display_data",
          "data": {
            "image/png": "[encoded data removed]",
            "text/plain": [
              "<Figure size 864x288 with 1 Axes>"
            ]
          },
          "metadata": {
            "tags": [],
            "needs_background": "light"
          }
        },
        {
          "output_type": "display_data",
          "data": {
            "image/png": "[encoded data removed]",
            "text/plain": [
              "<Figure size 864x288 with 1 Axes>"
            ]
          },
          "metadata": {
            "tags": [],
            "needs_background": "light"
          }
        },
        {
          "output_type": "display_data",
          "data": {
            "image/png": "[encoded data removed]",
            "text/plain": [
              "<Figure size 864x288 with 1 Axes>"
            ]
          },
          "metadata": {
            "tags": [],
            "needs_background": "light"
          }
        },
        {
          "output_type": "display_data",
          "data": {
            "image/png": "[encoded data removed]",
            "text/plain": [
              "<Figure size 864x288 with 1 Axes>"
            ]
          },
          "metadata": {
            "tags": [],
            "needs_background": "light"
          }
        },
        {
          "output_type": "display_data",
          "data": {
            "image/png": "[encoded data removed]",
            "text/plain": [
              "<Figure size 864x288 with 1 Axes>"
            ]
          },
          "metadata": {
            "tags": [],
            "needs_background": "light"
          }
        },
        {
          "output_type": "display_data",
          "data": {
            "image/png": "[encoded data removed]",
            "text/plain": [
              "<Figure size 864x288 with 1 Axes>"
            ]
          },
          "metadata": {
            "tags": [],
            "needs_background": "light"
          }
        },
        {
          "output_type": "display_data",
          "data": {
            "image/png": "[encoded data removed]",
            "text/plain": [
              "<Figure size 864x288 with 1 Axes>"
            ]
          },
          "metadata": {
            "tags": [],
            "needs_background": "light"
          }
        },
        {
          "output_type": "display_data",
          "data": {
            "image/png": "[encoded data removed]",
            "text/plain": [
              "<Figure size 864x288 with 1 Axes>"
            ]
          },
          "metadata": {
            "tags": [],
            "needs_background": "light"
          }
        },
        {
          "output_type": "display_data",
          "data": {
            "image/png": "[encoded data removed]",
            "text/plain": [
              "<Figure size 864x288 with 1 Axes>"
            ]
          },
          "metadata": {
            "tags": [],
            "needs_background": "light"
          }
        },
        {
          "output_type": "display_data",
          "data": {
            "image/png": "[encoded data removed]",
            "text/plain": [
              "<Figure size 864x288 with 1 Axes>"
            ]
          },
          "metadata": {
            "tags": [],
            "needs_background": "light"
          }
        },
        {
          "output_type": "display_data",
          "data": {
            "image/png": "[encoded data removed]",
            "text/plain": [
              "<Figure size 864x288 with 1 Axes>"
            ]
          },
          "metadata": {
            "tags": [],
            "needs_background": "light"
          }
        },
        {
          "output_type": "display_data",
          "data": {
            "image/png": "[encoded data removed]",
            "text/plain": [
              "<Figure size 864x288 with 1 Axes>"
            ]
          },
          "metadata": {
            "tags": [],
            "needs_background": "light"
          }
        },
        {
          "output_type": "display_data",
          "data": {
            "image/png": "[encoded data removed]",
            "text/plain": [
              "<Figure size 864x288 with 1 Axes>"
            ]
          },
          "metadata": {
            "tags": [],
            "needs_background": "light"
          }
        },
        {
          "output_type": "display_data",
          "data": {
            "image/png": "[encoded data removed]",
            "text/plain": [
              "<Figure size 864x288 with 1 Axes>"
            ]
          },
          "metadata": {
            "tags": [],
            "needs_background": "light"
          }
        },
        {
          "output_type": "display_data",
          "data": {
            "image/png": "[encoded data removed]",
            "text/plain": [
              "<Figure size 864x288 with 1 Axes>"
            ]
          },
          "metadata": {
            "tags": [],
            "needs_background": "light"
          }
        },
        {
          "output_type": "display_data",
          "data": {
            "image/png": "[encoded data removed]",
            "text/plain": [
              "<Figure size 864x288 with 1 Axes>"
            ]
          },
          "metadata": {
            "tags": [],
            "needs_background": "light"
          }
        },
        {
          "output_type": "display_data",
          "data": {
            "image/png": "[encoded data removed]",
            "text/plain": [
              "<Figure size 864x288 with 1 Axes>"
            ]
          },
          "metadata": {
            "tags": [],
            "needs_background": "light"
          }
        },
        {
          "output_type": "display_data",
          "data": {
            "image/png": "[encoded data removed]",
            "text/plain": [
              "<Figure size 864x288 with 1 Axes>"
            ]
          },
          "metadata": {
            "tags": [],
            "needs_background": "light"
          }
        },
        {
          "output_type": "display_data",
          "data": {
            "image/png": "[encoded data removed]",
            "text/plain": [
              "<Figure size 864x288 with 1 Axes>"
            ]
          },
          "metadata": {
            "tags": [],
            "needs_background": "light"
          }
        },
        {
          "output_type": "display_data",
          "data": {
            "image/png": "[encoded data removed]",
            "text/plain": [
              "<Figure size 864x288 with 1 Axes>"
            ]
          },
          "metadata": {
            "tags": [],
            "needs_background": "light"
          }
        },
        {
          "output_type": "display_data",
          "data": {
            "image/png": "[encoded data removed]",
            "text/plain": [
              "<Figure size 864x288 with 1 Axes>"
            ]
          },
          "metadata": {
            "tags": [],
            "needs_background": "light"
          }
        },
        {
          "output_type": "display_data",
          "data": {
            "image/png": "[encoded data removed]",
            "text/plain": [
              "<Figure size 864x288 with 1 Axes>"
            ]
          },
          "metadata": {
            "tags": [],
            "needs_background": "light"
          }
        },
        {
          "output_type": "display_data",
          "data": {
            "image/png": "[encoded data removed]",
            "text/plain": [
              "<Figure size 864x288 with 1 Axes>"
            ]
          },
          "metadata": {
            "tags": [],
            "needs_background": "light"
          }
        },
        {
          "output_type": "display_data",
          "data": {
            "image/png": "[encoded data removed]",
            "text/plain": [
              "<Figure size 864x288 with 1 Axes>"
            ]
          },
          "metadata": {
            "tags": [],
            "needs_background": "light"
          }
        },
        {
          "output_type": "display_data",
          "data": {
            "image/png": "[encoded data removed]",
            "text/plain": [
              "<Figure size 864x288 with 1 Axes>"
            ]
          },
          "metadata": {
            "tags": [],
            "needs_background": "light"
          }
        },
        {
          "output_type": "display_data",
          "data": {
            "image/png": "[encoded data removed]",
            "text/plain": [
              "<Figure size 864x288 with 1 Axes>"
            ]
          },
          "metadata": {
            "tags": [],
            "needs_background": "light"
          }
        },
        {
          "output_type": "display_data",
          "data": {
            "image/png": "[encoded data removed]",
            "text/plain": [
              "<Figure size 864x288 with 1 Axes>"
            ]
          },
          "metadata": {
            "tags": [],
            "needs_background": "light"
          }
        },
        {
          "output_type": "display_data",
          "data": {
            "image/png": "[encoded data removed]",
            "text/plain": [
              "<Figure size 864x288 with 1 Axes>"
            ]
          },
          "metadata": {
            "tags": [],
            "needs_background": "light"
          }
        },
        {
          "output_type": "display_data",
          "data": {
            "image/png": "[encoded data removed]",
            "text/plain": [
              "<Figure size 864x288 with 1 Axes>"
            ]
          },
          "metadata": {
            "tags": [],
            "needs_background": "light"
          }
        },
        {
          "output_type": "display_data",
          "data": {
            "image/png": "[encoded data removed]",
            "text/plain": [
              "<Figure size 864x288 with 1 Axes>"
            ]
          },
          "metadata": {
            "tags": [],
            "needs_background": "light"
          }
        },
        {
          "output_type": "display_data",
          "data": {
            "image/png": "[encoded data removed]",
            "text/plain": [
              "<Figure size 864x288 with 1 Axes>"
            ]
          },
          "metadata": {
            "tags": [],
            "needs_background": "light"
          }
        },
        {
          "output_type": "display_data",
          "data": {
            "image/png": "[encoded data removed]",
            "text/plain": [
              "<Figure size 864x288 with 1 Axes>"
            ]
          },
          "metadata": {
            "tags": [],
            "needs_background": "light"
          }
        },
        {
          "output_type": "display_data",
          "data": {
            "image/png": "[encoded data removed]",
            "text/plain": [
              "<Figure size 864x288 with 1 Axes>"
            ]
          },
          "metadata": {
            "tags": [],
            "needs_background": "light"
          }
        },
        {
          "output_type": "display_data",
          "data": {
            "image/png": "[encoded data removed]",
            "text/plain": [
              "<Figure size 864x288 with 1 Axes>"
            ]
          },
          "metadata": {
            "tags": [],
            "needs_background": "light"
          }
        },
        {
          "output_type": "display_data",
          "data": {
            "image/png": "[encoded data removed]",
            "text/plain": [
              "<Figure size 864x288 with 1 Axes>"
            ]
          },
          "metadata": {
            "tags": [],
            "needs_background": "light"
          }
        },
        {
          "output_type": "display_data",
          "data": {
            "image/png": "[encoded data removed]",
            "text/plain": [
              "<Figure size 864x288 with 1 Axes>"
            ]
          },
          "metadata": {
            "tags": [],
            "needs_background": "light"
          }
        },
        {
          "output_type": "display_data",
          "data": {
            "image/png": "[encoded data removed]",
            "text/plain": [
              "<Figure size 864x288 with 1 Axes>"
            ]
          },
          "metadata": {
            "tags": [],
            "needs_background": "light"
          }
        },
        {
          "output_type": "display_data",
          "data": {
            "image/png": "[encoded data removed]",
            "text/plain": [
              "<Figure size 864x288 with 1 Axes>"
            ]
          },
          "metadata": {
            "tags": [],
            "needs_background": "light"
          }
        },
        {
          "output_type": "display_data",
          "data": {
            "image/png": "[encoded data removed]",
            "text/plain": [
              "<Figure size 864x288 with 1 Axes>"
            ]
          },
          "metadata": {
            "tags": [],
            "needs_background": "light"
          }
        },
        {
          "output_type": "display_data",
          "data": {
            "image/png": "[encoded data removed]",
            "text/plain": [
              "<Figure size 864x288 with 1 Axes>"
            ]
          },
          "metadata": {
            "tags": [],
            "needs_background": "light"
          }
        },
        {
          "output_type": "display_data",
          "data": {
            "image/png": "[encoded data removed]",
            "text/plain": [
              "<Figure size 864x288 with 1 Axes>"
            ]
          },
          "metadata": {
            "tags": [],
            "needs_background": "light"
          }
        },
        {
          "output_type": "display_data",
          "data": {
            "image/png": "[encoded data removed]",
            "text/plain": [
              "<Figure size 864x288 with 1 Axes>"
            ]
          },
          "metadata": {
            "tags": [],
            "needs_background": "light"
          }
        },
        {
          "output_type": "display_data",
          "data": {
            "image/png": "[encoded data removed]",
            "text/plain": [
              "<Figure size 864x288 with 1 Axes>"
            ]
          },
          "metadata": {
            "tags": [],
            "needs_background": "light"
          }
        },
        {
          "output_type": "display_data",
          "data": {
            "image/png": "[encoded data removed]",
            "text/plain": [
              "<Figure size 864x288 with 1 Axes>"
            ]
          },
          "metadata": {
            "tags": [],
            "needs_background": "light"
          }
        },
        {
          "output_type": "display_data",
          "data": {
            "image/png": "[encoded data removed]",
            "text/plain": [
              "<Figure size 864x288 with 1 Axes>"
            ]
          },
          "metadata": {
            "tags": [],
            "needs_background": "light"
          }
        },
        {
          "output_type": "display_data",
          "data": {
            "image/png": "[encoded data removed]",
            "text/plain": [
              "<Figure size 864x288 with 1 Axes>"
            ]
          },
          "metadata": {
            "tags": [],
            "needs_background": "light"
          }
        },
        {
          "output_type": "display_data",
          "data": {
            "image/png": "[encoded data removed]",
            "text/plain": [
              "<Figure size 864x288 with 1 Axes>"
            ]
          },
          "metadata": {
            "tags": [],
            "needs_background": "light"
          }
        },
        {
          "output_type": "display_data",
          "data": {
            "image/png": "[encoded data removed]",
            "text/plain": [
              "<Figure size 864x288 with 1 Axes>"
            ]
          },
          "metadata": {
            "tags": [],
            "needs_background": "light"
          }
        }
      ]
    },
    {
      "cell_type": "code",
      "metadata": {
        "colab": {
          "base_uri": "https://localhost:8080/"
        },
        "id": "k_0tujMU3rj4",
        "outputId": "9ef7d005-d095-47f0-840e-4df84bb1beef"
      },
      "source": [
        "# CNN Model Prediction:\n",
        "# Below our model predicted incorrectly\n",
        "CNNmodel.eval()\n",
        "for x in range(1,60):\n",
        "  with torch.no_grad():\n",
        "      new_pred = CNNmodel(test_data[x][0].view(1,1,28,28)).argmax()  #1 image, 1 color channels, 28x28 pixels\n",
        "  print(new_pred.item(),class_names[new_pred.item()])"
      ],
      "execution_count": 62,
      "outputs": [
        {
          "output_type": "stream",
          "text": [
            "0 Fletters\n",
            "0 Fletters\n",
            "0 Fletters\n",
            "0 Fletters\n",
            "0 Fletters\n",
            "0 Fletters\n",
            "0 Fletters\n",
            "0 Fletters\n",
            "2 Hletters\n",
            "0 Fletters\n",
            "0 Fletters\n",
            "0 Fletters\n",
            "0 Fletters\n",
            "0 Fletters\n",
            "0 Fletters\n",
            "2 Hletters\n",
            "0 Fletters\n",
            "0 Fletters\n",
            "0 Fletters\n",
            "1 Gletters\n",
            "1 Gletters\n",
            "1 Gletters\n",
            "1 Gletters\n",
            "1 Gletters\n",
            "1 Gletters\n",
            "1 Gletters\n",
            "1 Gletters\n",
            "1 Gletters\n",
            "1 Gletters\n",
            "1 Gletters\n",
            "1 Gletters\n",
            "1 Gletters\n",
            "1 Gletters\n",
            "1 Gletters\n",
            "1 Gletters\n",
            "1 Gletters\n",
            "1 Gletters\n",
            "1 Gletters\n",
            "1 Gletters\n",
            "2 Hletters\n",
            "2 Hletters\n",
            "0 Fletters\n",
            "0 Fletters\n",
            "2 Hletters\n",
            "2 Hletters\n",
            "2 Hletters\n",
            "2 Hletters\n",
            "2 Hletters\n",
            "2 Hletters\n",
            "2 Hletters\n",
            "2 Hletters\n",
            "2 Hletters\n",
            "0 Fletters\n",
            "2 Hletters\n",
            "2 Hletters\n",
            "2 Hletters\n",
            "2 Hletters\n",
            "2 Hletters\n",
            "2 Hletters\n"
          ],
          "name": "stdout"
        }
      ]
    }
  ]
}